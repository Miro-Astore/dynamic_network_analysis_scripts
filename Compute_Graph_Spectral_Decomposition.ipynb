{
 "cells": [
  {
   "cell_type": "markdown",
   "id": "f1db64b2-1350-4ff4-9365-5d0b3375d5cb",
   "metadata": {},
   "source": [
    "# Generating Graph-based heirarchies via eigenvector decomposition\n",
    "\n",
    "This script is about extracting more data from the fact that the adjacency matrix, containing the eighted edges between nodes, can be diagonalised tos yield a set of eigenvector ($v_\\lambda$) and eigvenvalues ($\\lambda$). This application is called **spectral graph theory**: https://en.wikipedia.org/wiki/Spectral_graph_theory\n",
    "\n",
    "The first eigenvalue $\\lambda_1$ extracts the eigenvector centrality ($v_{\\lambda1}$), which also guarantees that all of $v_{\\lambda1}$ elements are >=0. This is convenient for many node-weighted analyses that don't play well with negative weights. Like most authors, we interpret this to be the influence graph - however, it is importance that it is only the influence of the **largest cohesive domain within the protein**. You will often note that for multidomain protein graphs, the centrality often identified only one domain, with all others as almost zero.\n",
    "\n",
    "This is because spectral decomposition actually partitions the graph into functioning subunits. The negative values of subsequent $v_\\lambda$ tells us \n",
    "something important about the intra-graph dynamics. Like the harmonics of a vibrating string, discrete domains will tend to anti-correlate so as to preserve the linear independence of spectral decomposition.\n",
    "\n",
    "Thus, the relative values of domains tells us something important about the cooperativity between domains. Graph-wise, the level of interconnectedness. This scales from zero for completely independent subunits to some as yet unknown maximum for a single domain protein.\n",
    "\n",
    "*Note: This is the MD-equivalent  of Kundu et al. (2006)'s work on using Gaussian Network Models to decompose proteins into discrete domains.*\n",
    "\n",
    "*Also c.f. Mishra et al. (2018) as they compare the correlation networked generated from MD to GNM, and find that they largely agree.*"
   ]
  },
  {
   "cell_type": "code",
   "execution_count": null,
   "id": "1a492657-9fa4-453e-9778-8a0c10ad684c",
   "metadata": {
    "ExecuteTime": {
     "end_time": "2020-06-04T23:09:43.829281Z",
     "start_time": "2020-06-04T23:09:34.192482Z"
    }
   },
   "outputs": [],
   "source": [
    "# Load the python package\n",
    "import os\n",
    "from dynetan.toolkit import *\n",
    "from dynetan.viz import *\n",
    "from dynetan.proctraj import *\n",
    "from dynetan.gencor import *# Load the python package\n",
    "from dynetan.contact import *\n",
    "from dynetan.datastorage import *\n",
    "from collections import Counter\n",
    "from itertools import combinations\n",
    "import community\n",
    "\n",
    "from sklearn.cluster import SpectralClustering\n",
    "import numpy as np\n",
    "import pandas as pd"
   ]
  },
  {
   "cell_type": "code",
   "execution_count": null,
   "id": "c5ad938a-336b-4802-b47f-bf803dc3c62a",
   "metadata": {},
   "outputs": [],
   "source": [
    "# For visualization\n",
    "from bokeh.io import output_file, output_notebook, push_notebook, show\n",
    "from bokeh import models as bokehModels\n",
    "from bokeh import transform as bokehTransform\n",
    "from bokeh import layouts as bokehLayouts\n",
    "from bokeh import plotting as bokehPlotting\n",
    "from bokeh import palettes as bokehPalettes\n",
    "from bokeh import events as bokehEvents\n",
    "# For pre-calculating CArtesian distances based on 2D embedding\n",
    "from sklearn.manifold import MDS"
   ]
  },
  {
   "cell_type": "code",
   "execution_count": null,
   "id": "0d1e50be-bfcb-44b3-beee-d2e9b362b413",
   "metadata": {},
   "outputs": [],
   "source": [
    "mapResidueNames={'ALA':'A','CYS':'C','ASP':'D','GLU':'E','PHE':'F',\n",
    "                 'GLY':'G','HIS':'H','HSD':'H','HSE':'H','ILE':'I','LYS':'K','LEU':'L',\n",
    "                 'MET':'M','ASN':'N','PRO':'P','GLN':'Q','ARG':'R',\n",
    "                 'SER':'S','THR':'T','VAL':'V','TRP':'W','TYR':'Y',\n",
    "                 'MG':'Mg','POPC':'Popc',\n",
    "                 'ATP':'Atp','GTP':'Gtp',\n",
    "                 'NA':'Sod','SOD':'Sod','CLA':'Cl','CL':'Cl','POT':'Pot','K':'Pot',\n",
    "                 'SOL':'h2o','HOH':'h2o','WAT':'h2o','TIP':'h2o','H2O':'h2o',\n",
    "                }\n",
    "\n",
    "def name_node(dnad, node):\n",
    "    #i=dnad.nodesAtmSel[node].index\n",
    "    resname=dnad.nodesAtmSel[node].resname ; resid=dnad.nodesAtmSel[node].resid\n",
    "    return \"%s%s\" % (mapResidueNames[resname], resid)\n",
    "\n",
    "def name_nodes_with_clarification( G ):\n",
    "    \"\"\"\n",
    "    Make a basic automated effort to get a short name that uniquely identifies the node within the graph.\n",
    "    \"\"\"\n",
    "    # = = = Make initial tentative assignment based on resname and resid.\n",
    "    dictNodeNames = OrderedDict()\n",
    "    dictNodeLookup = {}\n",
    "    for x in G.nodes():\n",
    "        tempName = \"%s%s\" % ( mapResidueNames[G.nodes[x]['resName']], G.nodes[x]['resID'] )\n",
    "        dictNodeNames[x] = tempName\n",
    "        if tempName not in dictNodeLookup:\n",
    "            dictNodeLookup[tempName] = [x]\n",
    "        else:\n",
    "            dictNodeLookup[tempName].append(x)\n",
    "            \n",
    "    # = = = Go through again and identify non-unique naming, then iteratively solve for solutions.\n",
    "    counter=Counter(dictNodeNames.values())\n",
    "    for k, v in counter.most_common():\n",
    "        if v==1:\n",
    "            break\n",
    "        # = = = First check if segIDs are different. If so, add as prefix.\n",
    "        segIDs = [ G.nodes[x]['segID'] for x in dictNodeLookup[k] ]\n",
    "        if len( np.unique(segIDs) )> 1:\n",
    "            for x in dictNodeLookup[k]:\n",
    "                dictNodeNames[x] = G.nodes[x]['segID']+\"_\"+dictNodeNames[x]\n",
    "\n",
    "        # = = = Also check if atom names are different. If so, add as suffix.\n",
    "        atomNames = [ G.nodes[x]['atomName'] for x in dictNodeLookup[k] ]\n",
    "        if len( np.unique(atomNames) )> 1:\n",
    "            for x in dictNodeLookup[k]:\n",
    "                dictNodeNames[x] = dictNodeNames[x]+\"_\"+G.nodes[x]['atomName']\n",
    "        \n",
    "    return dictNodeNames\n",
    "\n",
    "def name_graph_nodes_from_MDAnalysis(G, nodesAtomSel):\n",
    "    print(\"...naming the nodes of the graph based on MDAnalysis.\")\n",
    "    resNames={} ; nodesegIDs={} ; nodeAtomNames={} ; nodeNames = {}\n",
    "    for x in G.nodes():\n",
    "        G.nodes[x]['segID']    = nodesAtomSel[x].segid\n",
    "        G.nodes[x]['resName']  = nodesAtomSel[x].resname\n",
    "        G.nodes[x]['resID']    = nodesAtomSel[x].resid\n",
    "        G.nodes[x]['atomName'] = nodesAtomSel[x].name       \n",
    "\n",
    "    # = = = Add atoms where there is multi-node residues.\n",
    "    nodeNames = name_nodes_with_clarification( G )\n",
    "    nx.set_node_attributes(G, nodeNames, \"name\")"
   ]
  },
  {
   "cell_type": "code",
   "execution_count": null,
   "id": "404c6a43-d342-4a88-b0b6-fef0771c0317",
   "metadata": {},
   "outputs": [],
   "source": [
    "def encode_community_into_graph(G, nameAttr='commLouvain'):\n",
    "    \"\"\"\n",
    "    The same Louvain heuristics as DNA's work, but lifted out of the code-base.\n",
    "    best_partition returns a dictionary of community assignments that can directly be used in networkx's set_node_attrinutes.\n",
    "    However, it is not sorted by some particular metric.\n",
    "    \"\"\"\n",
    "    d = community.best_partition(G)\n",
    "    nx.set_node_attributes(G, d, nameAttr)"
   ]
  },
  {
   "cell_type": "code",
   "execution_count": null,
   "id": "f28f5e90-ad0f-4882-ae33-89878c2c8e98",
   "metadata": {},
   "outputs": [],
   "source": [
    "def extract_spectral_clustering(m, nMax, n_init=10):\n",
    "    \"\"\"\n",
    "    https://scikit-learn.org/stable/modules/generated/sklearn.cluster.SpectralClustering.html\n",
    "    \"\"\"\n",
    "    out = np.zeros((m.shape[0],nMax), dtype=int)\n",
    "    c = SpectralClustering(1, affinity='precomputed', n_init=n_init)\n",
    "    for i in range(2,nMax+1):\n",
    "        c.set_params(n_clusters=i)\n",
    "        out[:,i-1] = c.fit_predict(adjMat)\n",
    "    return out\n",
    "\n",
    "def convert_clusters_to_nodelist(l):\n",
    "    nComm=len(np.unique(l))\n",
    "    out=[ [] for _ in range(nComm) ]\n",
    "    for i,c in enumerate(l):\n",
    "        out[c].append(i)\n",
    "    return out\n",
    "\n",
    "def convert_dict_to_nodelist(d):\n",
    "    labels = np.unique( np.asarray( list(d.values()), dtype=int ) )\n",
    "    out=[ [] for _ in range(len(labels)) ]\n",
    "    for k,d in d.items():\n",
    "        out[d].append(k)\n",
    "    return out    "
   ]
  },
  {
   "cell_type": "code",
   "execution_count": null,
   "id": "cbd67d61-31d6-40a2-84d4-ac3273f576b5",
   "metadata": {},
   "outputs": [],
   "source": [
    "def compute_eigenvector_overlap_inner(v1,v2):\n",
    "    return np.linalg.norm( np.minimum( np.fabs(v1), np.fabs(v2) ) )\n",
    "    #return np.dot(np.fabs(v[:,i]),np.fabs(v[:,j]))\n",
    "    #return np.dot(np.square(v1),np.square(v2))\n",
    "    #return np.dot(np.fabs(v1),np.fabs(v2))\n",
    "    #return np.dot(v1,v2)\n",
    "\n",
    "def compute_eigenvector_overlap(v, nVec=2):\n",
    "    outArr = np.ones((nVec,nVec))        \n",
    "    for i in range(nVec-1):\n",
    "        for j in range(i+1,nVec):\n",
    "            outArr[i,j]=outArr[j,i]=compute_eigenvector_overlap_inner(v[:,i],v[:,j])\n",
    "    return outArr"
   ]
  },
  {
   "cell_type": "code",
   "execution_count": null,
   "id": "6f58af73-76dc-4d2f-9cd6-3a047a708eca",
   "metadata": {},
   "outputs": [],
   "source": [
    "def compute_excess_volume(v, nVec=None):\n",
    "    if nVec == None:\n",
    "        nVec = len(v)\n",
    "    outArr = np.zeros((nVec))\n",
    "    for i in range(nVec):\n",
    "        outArr[i] = np.sum(v[:,i])/np.sum(np.fabs(v[:,i]))\n",
    "    return outArr"
   ]
  },
  {
   "cell_type": "code",
   "execution_count": null,
   "id": "a4582c6f-d06a-4055-a747-339d6e0d06ba",
   "metadata": {},
   "outputs": [],
   "source": [
    "def convert_booleans_to_binary(arrBools):\n",
    "    return np.multiply(arrBools,np.power(2,np.arange(len(listBools)-1,-1,-1)))\n",
    "\n",
    "def extract_spectral_heirarchy(v, nVec=2, bCompress=False):\n",
    "    \"\"\"\n",
    "    Assumes right eigenvectors for now with v[:,i] corresponding to eigenvalue i\n",
    "    \"\"\"\n",
    "    tempArr = np.zeros( (v.shape[0],nVec), dtype='bool' )\n",
    "    tempArr = v[:,:nVec] < 0\n",
    "    outArr  = np.zeros( (v.shape[0],nVec), dtype='int' )\n",
    "    for i in range(1,nVec):\n",
    "        # = = = Rank the highest eigenvector as the smallest contributor to the binary heirarchical decomposition\n",
    "        powers = np.power(2,np.arange(i,-1,-1))*2**(nVec-i-1)\n",
    "        #print( i, powers)\n",
    "        outArr[:,i] = np.sum( np.multiply( tempArr[:,:i+1], powers ), axis=1)\n",
    "        \n",
    "    if bCompress:\n",
    "        dictMap = { b:a for a,b in enumerate(np.unique(outArr)) }\n",
    "        for i in range(outArr.shape[0]):\n",
    "            for j in range(outArr.shape[1]):\n",
    "                outArr[i,j]=dictMap[outArr[i,j]]\n",
    "        return outArr\n",
    "    else:\n",
    "        return outArr"
   ]
  },
  {
   "cell_type": "code",
   "execution_count": null,
   "id": "7f95f79b-f7d0-40be-9030-29b8644d6f98",
   "metadata": {},
   "outputs": [],
   "source": [
    "def build_structure_dataframe(atomSel, key, style='VMD'):\n",
    "    \"\"\"\n",
    "    Returns a 3-column pandas data frame containing the segid, resid, and name for use in exporting.\n",
    "    This makes selecting the atoms in a visualiser much easier\n",
    "    \"\"\"\n",
    "    dataBlock = np.stack( (key, atomSel.segids,atomSel.resids,atomSel.names), axis=1)\n",
    "    if style == 'VMD':\n",
    "        colNames = ['key','segname','resid','name']\n",
    "    elif style == 'MDA':\n",
    "        colNames = ['key','segid','resid','name']\n",
    "    return pd.DataFrame( dataBlock, columns = colNames )"
   ]
  },
  {
   "cell_type": "code",
   "execution_count": null,
   "id": "5a5fcbad-5197-4625-bb71-9dbc6948bc7c",
   "metadata": {},
   "outputs": [],
   "source": [
    "def basicTicker():\n",
    "    return bokehModels.BasicTicker(min_interval=1, max_interval=1, num_minor_ticks=1)"
   ]
  },
  {
   "cell_type": "code",
   "execution_count": null,
   "id": "288fcf6b-3e7c-4578-9e82-6c7e57b6fc3f",
   "metadata": {},
   "outputs": [],
   "source": [
    "def plot_bokehfigure_vector(yVals, xVals=None, style='line', title=\"\", pHeight=400, pWidth=1000):\n",
    "    \"\"\"\n",
    "    Accepts Single vectors, and (nval, 2) vectors\n",
    "    \"\"\"\n",
    "    if xVals == None:\n",
    "        source = bokehModels.ColumnDataSource(data=dict(x=np.arange(len(yVals)),y=yVals))\n",
    "    else:\n",
    "        source = bokehModels.ColumnDataSource(data=dict(x=xVals,y=yVals))\n",
    "    \n",
    "    p = bokehPlotting.figure(plot_width=pWidth, plot_height=pHeight, title=title)\n",
    "    p.add_tools(bokehModels.HoverTool(tooltips=[('','@x,@y')]))\n",
    "    p.toolbar.active_scroll = p.select_one(bokehModels.WheelZoomTool)    \n",
    "    if style == 'line':\n",
    "        p.line(x=\"x\", y=\"y\", source=source)\n",
    "    elif style == 'points':\n",
    "        p.circle(x=\"x\", y=\"y\", source=source)\n",
    "    elif style == 'vbar':\n",
    "        g=bokehModels.VBar(x=\"x\", top=\"y\")\n",
    "        p.add_glyph(source, g)\n",
    "    elif style == 'hbar':\n",
    "        g=bokehModels.HBar(right=\"x\", y=\"y\")\n",
    "        p.add_glyph(source, g)        \n",
    "    return p"
   ]
  },
  {
   "cell_type": "code",
   "execution_count": null,
   "id": "83485d05-fd4e-4159-9738-8441c3bdac6d",
   "metadata": {},
   "outputs": [],
   "source": [
    "def plot_bokehfigure_matrix(m, tickLabels=None, bValues=False):\n",
    "    pSize=600 \n",
    "    offset=0.0\n",
    "    if tickLabels is not None:\n",
    "        offset=0.5\n",
    "    source = bokehModels.ColumnDataSource(data=dict(x=[],y=[],z=[], l=[]))\n",
    "    for i in range(m.shape[0]):\n",
    "        for j in range(m.shape[1]):\n",
    "            if m[i,j]>0:\n",
    "                source.data['x'].append( i+offset )\n",
    "                source.data['y'].append( j+offset )\n",
    "                source.data['z'].append( m[i,j] )\n",
    "                source.data['l'].append( \"%.0f\" % m[i,j] )\n",
    "    colors = np.flip(bokehPalettes.Viridis256)\n",
    "    mapper = bokehModels.LinearColorMapper(palette=colors, low=np.min(m), high=np.max(m))\n",
    "    if tickLabels == None:\n",
    "        p = bokehPlotting.figure(plot_width=pSize, plot_height=pSize)\n",
    "    else:\n",
    "        p = bokehPlotting.figure(plot_width=pSize, plot_height=pSize, x_range=tickLabels, y_range=tickLabels)\n",
    "        \n",
    "    p.add_tools(bokehModels.HoverTool(tooltips=[('','@z')]))    \n",
    "    p.xaxis.major_label_orientation = \"vertical\"\n",
    "    p.toolbar.active_scroll = p.select_one(bokehModels.WheelZoomTool)    \n",
    "    p.rect(x=\"x\", y=\"y\", width=1, height=1, source=source, line_color=None, alpha=0.9,\n",
    "           fill_color=bokehTransform.transform('z', mapper))\n",
    "    if bValues:\n",
    "        labels = bokehModels.LabelSet(x=\"x\", y=\"y\", text=\"l\", source=source,\n",
    "               x_offset=0, y_offset=0, text_align='center', text_baseline='middle', render_mode='canvas')\n",
    "        p.add_layout(labels)\n",
    "    return p"
   ]
  },
  {
   "cell_type": "markdown",
   "id": "70f8b441-8f0e-48cf-a497-52564a28fd2c",
   "metadata": {},
   "source": [
    "## Parameter setting for terminal and notebook formats"
   ]
  },
  {
   "cell_type": "code",
   "execution_count": null,
   "id": "78603adc-d228-4017-bc1a-a86f68c7bb00",
   "metadata": {},
   "outputs": [],
   "source": [
    "bPythonExport = False"
   ]
  },
  {
   "cell_type": "code",
   "execution_count": null,
   "id": "e1557aaf-1319-4383-b4de-66978dc080cf",
   "metadata": {},
   "outputs": [],
   "source": [
    "if bPythonExport:\n",
    "    import argparse\n",
    "    parser = argparse.ArgumentParser(description='Perform graph spectral decomposition on a pre-computed DNAD file.',\n",
    "                                                 formatter_class=argparse.ArgumentDefaultsHelpFormatter)\n",
    "    parser.add_argument('-n', '--num_vecs', type=int, dest='numVecs', default=4,\n",
    "                        help='Number of eigenvectors to report. Noting that the first eigenvector is the canonical centrality, '\n",
    "                             'with higher components denoting divisions into influential sub-domains.')\n",
    "    parser.add_argument('-i', '--input', type=str, dest='inputPrefix', default=None, required=True,\n",
    "                        help='Input prefix used to generate files from Step 1.')\n",
    "    parser.add_argument('-o', '--output', type=str, dest='outputPrefix', default=None, required=True,\n",
    "                        help='The prefix for all output files, included HTML visualisations aand data files')\n",
    "    parser.add_argument('-r','--ref', type=str, dest='referencePrefix', default=None,\n",
    "                        help='(Not currently used) An equivalent input prefix to include a reference Step 1 computation for comparison.')\n",
    "    parser.add_argument('--title', type=str, dest='titleGraph', default='Spectral Decomposition',\n",
    "                        help='Name of the graph titles to be shown in the output HTML.')\n",
    "    \n",
    "    args = parser.parse_args()\n",
    "    \n",
    "    fullPathRoot   = args.inputPrefix\n",
    "    filePDBRef = fullPathRoot+\"_reducedTraj.pdb\"\n",
    "    outputPrefix = args.outputPrefix\n",
    "    nVecs = args.numVecs\n",
    "    titleGraph     = args.titleGraph\n",
    "    bComparison = False\n",
    "    if args.referencePrefix is not None:\n",
    "        fullPathRootB = args.referencePrefix\n",
    "        filePDBRefB = fullPathRootB+\"_reducedTraj.pdb\"\n",
    "        bComparison = True"
   ]
  },
  {
   "cell_type": "code",
   "execution_count": null,
   "id": "2fc2cf00-b7d6-4729-ad8e-25d6dd7cd5aa",
   "metadata": {
    "tags": []
   },
   "outputs": [],
   "source": [
    "# = = = Change to the relevant work folder\n",
    "if not bPythonExport:\n",
    "    systemExample=\"periplasmic\"\n",
    "    if systemExample == \"UbqCHARMM\" or systemExample == \"UbqTempProfile\":\n",
    "        %cd /home/zharmad/host/projects/Ubq-md\n",
    "    elif systemExample == \"UbqAthi\":\n",
    "        %cd /home/zharmad/host/shared-colleague/Ubq-2017\n",
    "    elif systemExample == \"periplasmic\":\n",
    "        %cd /home/zharmad/projects/periplasmic/leucine-binding_protein\n",
    "    elif systemExample == \"caspase-1\":\n",
    "        %cd /home/zharmad/host/projects/caspase-1\n",
    "    elif systemExample == \"CFTR\":\n",
    "        %cd /home/zharmad/projects/cftr/DyNetAn\n",
    "    else:\n",
    "        %cd .."
   ]
  },
  {
   "cell_type": "code",
   "execution_count": null,
   "id": "e104a2e3-9b74-491a-b9de-fa55c47df3cb",
   "metadata": {},
   "outputs": [],
   "source": [
    "if not bPythonExport:\n",
    "    nVecs=8\n",
    "    outputDir=None\n",
    "    if systemExample == \"UbqCHARMM\":\n",
    "        # apo1 apo2 apo3\n",
    "        state=\"apo1\" ; dataDir = \"./dynetan\"        \n",
    "        fileNameRoot = \"%s_5x1000\" % state\n",
    "        stateB=\"apo2\" ; dataDirB = dataDir\n",
    "        fileNameRootB = \"%s_5x1000\" % stateB\n",
    "    elif systemExample == \"UbqTempProfile\":\n",
    "        state=\"Ubq\" ; dataDir = \"./dynetan\"\n",
    "        fileNameRoot = \"ubq-Temp-profile\"\n",
    "        nameDataset = [\"%iK\" % (w*20+280) for w in range(5)]\n",
    "    elif systemExample == \"UbqAthi\":\n",
    "        # UbqI13V  UbqI23A  UbqI30A  UbqL43A  UbqL67A  UbqL69A  UbqV17A  UbqWT\n",
    "        state=\"UbqL43A\" ; dataDir = \"./dynetan\"\n",
    "        fileNameRoot = \"%s_5x200\" % state\n",
    "        stateB=\"UbqWT\" ; dataDirB = dataDir\n",
    "        fileNameRootB = \"%s_5x200\" % stateB\n",
    "        nameConsensus ='L43A' ; nameConsensusB='WT'\n",
    "    elif systemExample == \"periplasmic\":\n",
    "        # apo holo\n",
    "        state=\"holo\" ; dataDir = \"./dynetan\"\n",
    "        fileNameRoot = \"%s_5x200\" % state\n",
    "        stateB=\"apo\" ; dataDirB = dataDir\n",
    "        fileNameRootB = \"%s_5x200\" % stateB\n",
    "        nameConsensus ='holo/closed'\n",
    "        nameConsensusB='apo/open'\n",
    "    elif systemExample == \"caspase-1\":\n",
    "        state=\"off-state\" ; dataDir = \"./dynetan\"\n",
    "        fileNameRoot = \"%s_5x1000\" % state\n",
    "        stateB=\"off-state\" ; dataDirB = dataDir\n",
    "        fileNameRootB = \"%s_5x1000\" % stateB\n",
    "        nameConsensus ='On state' ; nameConsensusB='Off state'\n",
    "    elif systemExample == \"CFTR\":\n",
    "        # Define mutant file IO locations. wt, P67L, E56K, R75Q, S945L, dF508, Q1291H, etc.\n",
    "        state=\"dF508\" ; temperature=\"310K\"\n",
    "        dataDir = \"./results/%s/%s/\" % (state, temperature)\n",
    "        #Path where results will be written (you may want plots and data files in a new location)\n",
    "        outputDir = \"./results/%s/%s/analysis\" % (state, temperature)\n",
    "        fileNameRoot = \"1to3\"\n",
    "        stateB=\"wt\" ; dataDirB = \"./results/%s/%s/\" % (stateB, temperature)\n",
    "        fileNameRootB = \"1to6\"\n",
    "        \n",
    "    else:\n",
    "        raise KeyboardInterrupt\n",
    "        \n",
    "    #Path where results will be written (you may want plots and data files in a new location)\n",
    "    if outputDir is None:\n",
    "        outputDir = \"./dynetan/analysis\"\n",
    "    fullPathRoot = os.path.join(dataDir, fileNameRoot)\n",
    "    filePDBRef = fullPathRoot+\"_reducedTraj.pdb\"\n",
    "    \n",
    "    # outputDir is not currently used.\n",
    "    outputPrefix = \"./spectralDecomp\"\n",
    "    titleGraph  = \"%s network\" % state\n",
    "    #if bComparison:\n",
    "           \n",
    "    bComparison = False\n",
    "    if bComparison:\n",
    "        fullPathRootB = os.path.join(dataDirB, fileNameRootB)\n",
    "        filePDBRefB = fullPathRootB+\"_reducedTraj.pdb\"\n",
    "        outputFileName = \"./networkView-%s-comparison.html\" % state\n",
    "        \n",
    "        titleGraph = \"%s - %s comparison\" % (state, stateB)"
   ]
  },
  {
   "cell_type": "markdown",
   "id": "a693bc7e-1ed9-403a-bcbc-b457bdb07773",
   "metadata": {
    "tags": []
   },
   "source": [
    "## Load the relevant data into DNAD objects"
   ]
  },
  {
   "cell_type": "code",
   "execution_count": null,
   "id": "6b17456b-7606-4654-9814-b3db9d5abe92",
   "metadata": {
    "ExecuteTime": {
     "end_time": "2020-06-04T23:09:45.368030Z",
     "start_time": "2020-06-04T23:09:45.364339Z"
    }
   },
   "outputs": [],
   "source": [
    "print(\"= = = Loading input graph data...\")\n",
    "dnad = DNAdata()\n",
    "# = = = loadFromFile will automatically output debug lines.\n",
    "dnad.loadFromFile(fullPathRoot)\n",
    "#mdU = mda.Universe( \"./UbqWT/reference.pdb\" )\n",
    "mdU = mda.Universe( filePDBRef )\n",
    "dnad.nodesAtmSel = mdU.atoms[ dnad.nodesIxArray ]"
   ]
  },
  {
   "cell_type": "code",
   "execution_count": null,
   "id": "9128dc50-2258-4aee-9076-e724ba89bb25",
   "metadata": {},
   "outputs": [],
   "source": [
    "if bComparison:\n",
    "    print(\"= = = Loading reference data...\")\n",
    "    dnadB = DNAdata()\n",
    "    dnadB.loadFromFile(fullPathRootB)\n",
    "    mdUB = mda.Universe( filePDBRefB )\n",
    "    dnadB.nodesAtmSel = mdUB.atoms[ dnadB.nodesIxArray ]\n",
    "else:\n",
    "    dnadB = dnad\n",
    "    mdUB = mdU"
   ]
  },
  {
   "cell_type": "code",
   "execution_count": null,
   "id": "4ba3e752-cc61-4a2f-bb07-37304adfaa4c",
   "metadata": {},
   "outputs": [],
   "source": [
    "def compute_consensus_graph(listG):\n",
    "    \"\"\"\n",
    "    The node_properties and edge properties are the values to take averages of.\n",
    "    Assumes nodes are the same between all graphs in the list.\n",
    "    Assumes that the union of all edges should be used, rather than the intersection of all edges.\n",
    "    \"\"\"\n",
    "    nGraphs = len(listG)\n",
    "    outG = nx.Graph()\n",
    "    # = = = Create Nodes and Edges = = =\n",
    "    for x, c in listG[0].nodes.data('name', default=None):\n",
    "        outG.add_node(x, name=c, communityID=0)\n",
    "        \n",
    "    dictWeights={} ; dictCounts={}\n",
    "    for w in range(nGraphs):\n",
    "        for u, v, c in listG[w].edges.data('name', default=None):\n",
    "            if (u,v) not in outG.edges():\n",
    "                outG.add_edge(u,v,name=c)\n",
    "                dictWeights[u,v]=listG[w].edges[u,v]['weight']\n",
    "                dictCounts[u,v]=1\n",
    "            else:\n",
    "                dictWeights[u,v]+=listG[w].edges[u,v]['weight']\n",
    "                dictCounts[u,v]+=1\n",
    "    for k, v in dictWeights.items():\n",
    "        outG.edges[k]['weight'] = v/dictCounts[k]\n",
    "    return outG"
   ]
  },
  {
   "cell_type": "code",
   "execution_count": null,
   "id": "266b92a5-a489-4530-9345-3b2a21cc3fc2",
   "metadata": {},
   "outputs": [],
   "source": [
    "def _name_test_graph(G):\n",
    "    for n in G.nodes():\n",
    "        G.nodes[n]['name']='X%i' % (n+1)\n",
    "\n",
    "def _break_distal_edges(G, listNodes):\n",
    "    \"\"\"\n",
    "    Removes all edges that are not immediately adjacent to each other.\n",
    "    \"\"\"\n",
    "    for i,j in combinations(listNodes,2):\n",
    "        if np.fabs(j-i)>1 and (i,j) in G.edges:\n",
    "            G.remove_edge(i,j)\n",
    "    \n",
    "def build_test_graph(numNodes, style, wBackbone=0.95, wDistal=0.8):\n",
    "    G = nx.Graph()\n",
    "    for i in range(numNodes-1):\n",
    "        G.add_edge(i,i+1, weight=wBackbone)    \n",
    "    _name_test_graph(G)\n",
    "\n",
    "    if style == 'coil':\n",
    "        \"\"\"\n",
    "        A model graph that is joined only to immediate neighbours\n",
    "        \"\"\"\n",
    "        return G\n",
    "    if style == 'helix':\n",
    "        \"\"\"\n",
    "        A model that this is joined with every neighbour (i-3,i+3)\n",
    "        \"\"\"\n",
    "        if numNodes<4:\n",
    "            print(\"= = = ERROR: helix motif requires at least 4 nodes\")\n",
    "            return None\n",
    "        for i in range(numNodes-1):\n",
    "            for j in [i+2,i+3]:\n",
    "                if j < numNodes:\n",
    "                    G.add_edge(i,j, weight=wDistal)\n",
    "    if style == 'anti-parallel':\n",
    "        if numNodes<6:\n",
    "            print(\"= = = ERROR: anti-parallel beta strand motif needs at least 6 nodes\")\n",
    "            return None\n",
    "        for i in range(numNodes-1):\n",
    "            G.add_edge(i, i+1, weight=wBackbone)\n",
    "        for i in range(int(numNodes/2)):\n",
    "            j = numNodes-i-1\n",
    "            if j != i+1:\n",
    "                G.add_edge(i, j, weight=wDistal)\n",
    "    \n",
    "    return G"
   ]
  },
  {
   "cell_type": "markdown",
   "id": "95af3a80-e8d9-49a2-9078-7e1a01e49853",
   "metadata": {},
   "source": [
    "## Get consensus graph and compute adjacency matrix alongside eigenvectors"
   ]
  },
  {
   "cell_type": "code",
   "execution_count": null,
   "id": "f24ee41a-1551-4fe8-9fb8-5ea42fec26e8",
   "metadata": {},
   "outputs": [],
   "source": [
    "GConsensus = compute_consensus_graph(dnad.nxGraphs)\n",
    "#for n,d in dnad.nxGraphs[0].nodes(data='name'):\n",
    "#    GConsensus.nodes[n]['name']=d\n",
    "name_graph_nodes_from_MDAnalysis( GConsensus, dnad.nodesAtmSel )"
   ]
  },
  {
   "cell_type": "code",
   "execution_count": null,
   "id": "3d6d4910-e2f2-446b-8be3-96c7eafa4d95",
   "metadata": {},
   "outputs": [],
   "source": [
    "if False:\n",
    "    testType='helix'\n",
    "    GConsensus = build_test_graph(40, style=testType)\n",
    "    nVecs = 6 ; titleGraph = 'theorical model of %s' % testType\n",
    "    \n",
    "    # = = =Break helix in two\n",
    "    _break_distal_edges(GConsensus, np.arange(17,27))\n",
    "    # = = = Add interhelix edges.\n",
    "    #GConsensus.add_edge(10,38,weight=0.4)\n",
    "    #GConsensus.add_edge(13,34,weight=0.4)\n",
    "    \n",
    "    #GConsensus.edges[20,21]['weight']=0.4\n",
    "    #GConsensus.edges[22,23]['weight']=0.4\n",
    "    "
   ]
  },
  {
   "cell_type": "code",
   "execution_count": null,
   "id": "114b741c-a906-4b17-bb10-13a5ce1844c6",
   "metadata": {},
   "outputs": [],
   "source": [
    "if False:\n",
    "    output_notebook()    \n",
    "    fig = plot_bokehfigure_matrix(nx.convert_matrix.to_numpy_array(GConsensus, weight='weight', nonedge=0.0),\n",
    "                              tickLabels=[ d for x,d in GConsensus.nodes(data='name')])\n",
    "    show(fig)"
   ]
  },
  {
   "cell_type": "code",
   "execution_count": null,
   "id": "24cdd25b-9a4f-450e-be8d-e380aa49f40b",
   "metadata": {},
   "outputs": [],
   "source": [
    "listNames = [ d for x,d in GConsensus.nodes(data='name') ]"
   ]
  },
  {
   "cell_type": "code",
   "execution_count": null,
   "id": "219eb0c3-6128-4dbe-aeb4-383901f38bf8",
   "metadata": {},
   "outputs": [],
   "source": [
    "dfTopology = build_structure_dataframe(dnad.nodesAtmSel, listNames)"
   ]
  },
  {
   "cell_type": "code",
   "execution_count": null,
   "id": "a1850183-7426-4dbc-b033-0541eff33a83",
   "metadata": {},
   "outputs": [],
   "source": [
    "adjMat   = nx.convert_matrix.to_numpy_array(GConsensus, weight='weight', nonedge=0.0)\n",
    "nNodes = GConsensus.number_of_nodes()"
   ]
  },
  {
   "cell_type": "code",
   "execution_count": null,
   "id": "15ef6b3d-78ed-4c02-b4e2-82cc39230c45",
   "metadata": {},
   "outputs": [],
   "source": [
    "palette = bokehPalettes.viridis(nVecs)\n",
    "w, v = np.linalg.eigh(adjMat)\n",
    "w = np.flip(w)\n",
    "v = np.flip(v,axis=1)\n",
    "# = = = Normalise v_lambda for net positive\n",
    "for i in range(nVecs):\n",
    "    if np.sum(v[:,i])<0:\n",
    "        v[:,i] *= -1"
   ]
  },
  {
   "cell_type": "code",
   "execution_count": null,
   "id": "62d2a2f1-0b0e-4e6c-8bb0-f7478e1dfaa5",
   "metadata": {},
   "outputs": [],
   "source": [
    "encode_community_into_graph(GConsensus, nameAttr='modularity')\n",
    "numLouvain=max([d for k,d in GConsensus.nodes(data='modularity')])"
   ]
  },
  {
   "cell_type": "code",
   "execution_count": null,
   "id": "82552f95-d1cd-4547-adef-4145298fa915",
   "metadata": {},
   "outputs": [],
   "source": [
    "fig1 = plot_bokehfigure_vector(w, style='vbar', pHeight=300,title='Eigenvalues of spectral decomposition')\n",
    "fig2 = plot_bokehfigure_vector(compute_excess_volume(v), style='vbar', pHeight=300, title='Eigenvector excess volume')\n",
    "#fig3 = plot_bokehfigure_vector(np.argmax(v,axis=0), style='points', pHeight=300, title='Eigenvector maxima')\n",
    "fig3 = plot_bokehfigure_vector(v[:,0], style='line', pHeight=300, title='1st eigenvector (i.e. centrality)')\n",
    "fig4 = plot_bokehfigure_vector([d for k,d in GConsensus.nodes(data='modularity')],\n",
    "                               style='points', pHeight=300, title='Default Louvain Community ID via community.best_partition()')\n",
    "if not bPythonExport:\n",
    "    output_notebook()\n",
    "else:\n",
    "    output_file(outputPrefix+'_basics.html')\n",
    "show(bokehModels.Column(fig1, fig2, fig3, fig4))"
   ]
  },
  {
   "cell_type": "code",
   "execution_count": null,
   "id": "196711b5-5b9b-4f0b-b33f-3041d1737ac9",
   "metadata": {},
   "outputs": [],
   "source": [
    "dfMerge = pd.merge( dfTopology, pd.DataFrame([d for k,d in GConsensus.nodes(data='modularity')], index=listNames),\n",
    "                   left_on='key', right_index=True )\n",
    "dfMerge.to_csv(outputPrefix+'_LouvainCommunities.csv', index=False)"
   ]
  },
  {
   "cell_type": "markdown",
   "id": "e1d9be2b-48b6-428c-82a1-30bf6ae16bc1",
   "metadata": {},
   "source": [
    "## Compute, Export, and plot eigenvectors from the spectral decomposition"
   ]
  },
  {
   "cell_type": "code",
   "execution_count": null,
   "id": "a0abbada-65f7-4503-9d1a-43d13f9292e2",
   "metadata": {},
   "outputs": [],
   "source": [
    "dataFrame = pd.DataFrame( v[:,:nVecs], index=listNames)"
   ]
  },
  {
   "cell_type": "code",
   "execution_count": null,
   "id": "0b07ec15-5e33-4f8c-a24f-ae4b1f55b8f4",
   "metadata": {},
   "outputs": [],
   "source": [
    "dfMerge = pd.merge( dfTopology, dataFrame, left_on='key', right_index=True )\n",
    "dfMerge.to_csv(outputPrefix+'_eigenvectors.csv', index=False)"
   ]
  },
  {
   "cell_type": "code",
   "execution_count": null,
   "id": "61b5c537-1fc5-4f98-a077-4279c3aca097",
   "metadata": {},
   "outputs": [],
   "source": [
    "source = bokehModels.ColumnDataSource(data=dict())\n",
    "source.data['name'] = listNames\n",
    "listLegend = []\n",
    "for i in range(nVecs):\n",
    "    nameField='v%i'%i\n",
    "    listLegend.append(nameField)\n",
    "    #listLegend.append('%s ; \\N{GREEK SMALL LETTER LAMDA}=%.3g' % (nameField, w[i]) )\n",
    "    source.data[nameField] = v[:,i]\n",
    "    #source.data[nameField] = np.sign(v[:,i])\n",
    "    \n",
    "fig = bokehPlotting.figure(width=1000, height=400, title=titleGraph,\n",
    "                           x_axis_label='Node ID', y_axis_label='eigenvector',\n",
    "                           x_range=listNames,\n",
    "                           tools = \"pan,wheel_zoom,box_zoom,box_select,tap,save,reset,help\")\n",
    "fig.xaxis.major_label_orientation = \"vertical\"\n",
    "fig.toolbar.active_scroll = fig.select_one(bokehModels.WheelZoomTool)\n",
    "\n",
    "for i in range(nVecs):\n",
    "    nameField='v%i'%i\n",
    "    fig.line('name', nameField, legend_label=listLegend[i], source=source,line_width=1, line_color=palette[i])\n",
    "fig.legend.click_policy=\"hide\"    \n",
    "\n",
    "tooltips = [(\"Name\", \"@name\")]\n",
    "fig.add_tools(bokehModels.HoverTool(tooltips=tooltips))\n",
    "\n",
    "if not bPythonExport:\n",
    "    output_notebook()\n",
    "else:\n",
    "    output_file(outputPrefix+'_eigenvectors.html')\n",
    "    \n",
    "show(fig)"
   ]
  },
  {
   "cell_type": "markdown",
   "id": "763c8eba-4af8-4dee-a504-34eba71ed0af",
   "metadata": {},
   "source": [
    "## Compute, export and plot heirarchical divisions in sequence space"
   ]
  },
  {
   "cell_type": "code",
   "execution_count": null,
   "id": "99a88a8a-9727-489e-ae81-11401ab87e56",
   "metadata": {},
   "outputs": [],
   "source": [
    "dataFrame = pd.DataFrame( extract_spectral_heirarchy(v,nVecs, bCompress=True), index=listNames)"
   ]
  },
  {
   "cell_type": "code",
   "execution_count": null,
   "id": "0e09cec1-c658-4cc8-83e2-8412a3af9d80",
   "metadata": {},
   "outputs": [],
   "source": [
    "dataFrame.rename_axis('Heirarchy', axis=1)\n",
    "dataFrame.rename_axis('Node ID', axis=0)\n",
    "maxColors = dataFrame.max().max()+1\n",
    "palette2 = bokehPalettes.viridis(min(maxColors,256))\n",
    "\n",
    "cMax=max(dataFrame.max().max(),numLouvain)\n",
    "fact=1\n",
    "if cMax>numLouvain:\n",
    "    fact=cMax/numLouvain\n",
    "source = bokehModels.ColumnDataSource( pd.DataFrame(dataFrame.stack(), columns=['membership']).reset_index() )\n",
    "source2 = bokehModels.ColumnDataSource( data=dict(x=list(dataFrame.index), y=[nVecs]*nNodes,\n",
    "                                                  level_0=listNames,\n",
    "                                                  membership=[int(fact*d) for k,d in GConsensus.nodes(data='modularity')]) )\n",
    "mapper = bokehModels.LinearColorMapper(palette=palette2, low=-0.5, high=cMax+0.5)"
   ]
  },
  {
   "cell_type": "code",
   "execution_count": null,
   "id": "063135d3-af8e-4e12-b668-58ffad09d25d",
   "metadata": {},
   "outputs": [],
   "source": [
    "dfMerge = pd.merge( dfTopology, dataFrame, left_on='key', right_index=True )\n",
    "dfMerge.to_csv(outputPrefix+'_node_heirarchy.csv', index=False)"
   ]
  },
  {
   "cell_type": "code",
   "execution_count": null,
   "id": "903a2ee6-0824-4713-82f3-bc6f5c6c958e",
   "metadata": {},
   "outputs": [],
   "source": [
    "fig = bokehPlotting.figure(width=1000, height=400, title=titleGraph,\n",
    "                           x_axis_label='Node ID', y_axis_label='Heirarchy level',\n",
    "                           x_range=list(dataFrame.index),\n",
    "                           tools = \"pan,wheel_zoom,box_zoom,box_select,tap,save,reset,help\")\n",
    "fig.grid.grid_line_color = None\n",
    "fig.axis.axis_line_color = None\n",
    "fig.xaxis.major_label_orientation = \"vertical\"\n",
    "fig.yaxis.ticker = np.arange(0,nVecs+1)\n",
    "fig.yaxis.major_label_overrides = {nVecs: 'Louvain'}\n",
    "fig.axis.major_tick_line_color = None\n",
    "fig.toolbar.active_scroll = fig.select_one(bokehModels.WheelZoomTool)\n",
    "\n",
    "cir = fig.rect(x=\"level_0\", y=\"level_1\", width=1, height=1,source=source,fill_color={'field': 'membership', 'transform': mapper},line_color=None)\n",
    "cir2 = fig.rect(x=\"x\", y=\"y\", width=1, height=1,source=source2,\n",
    "               fill_color={'field': 'membership', 'transform': mapper},line_color=None)\n",
    "cbar = bokehModels.ColorBar(title='Group Membership', color_mapper=mapper, border_line_color=None, location=(0, 0))\n",
    "fig.add_layout(cbar, 'right')\n",
    "\n",
    "tooltips = [(\"Name\", \"@level_0\"),(\"Member\",\"@membership\")]\n",
    "fig.add_tools(bokehModels.HoverTool(tooltips=tooltips))\n",
    "\n",
    "if not bPythonExport:\n",
    "    output_notebook()\n",
    "else:\n",
    "    output_file(outputPrefix+'_node_heirarchy.html')\n",
    "    \n",
    "show(fig)"
   ]
  },
  {
   "cell_type": "markdown",
   "id": "4199dc5d-138e-4ae3-8a1b-4d2a2e8274af",
   "metadata": {},
   "source": [
    "## Compute, export and plot spectral clustering"
   ]
  },
  {
   "cell_type": "code",
   "execution_count": null,
   "id": "283af06a-fbe8-44da-8175-58ba00d70f29",
   "metadata": {},
   "outputs": [],
   "source": [
    "dataFrame = pd.DataFrame(extract_spectral_clustering(adjMat, nVecs),\n",
    "                         index=listNames,\n",
    "                         columns=range(1,nVecs+1)\n",
    "                        )"
   ]
  },
  {
   "cell_type": "code",
   "execution_count": null,
   "id": "d1c5278f-06a8-49bb-8ff6-9a633852380d",
   "metadata": {},
   "outputs": [],
   "source": [
    "dataFrame.rename_axis('Cluster Membership', axis=1)\n",
    "dataFrame.rename_axis('Node ID', axis=0)\n",
    "maxColors = dataFrame.max().max()+1\n",
    "palette2 = bokehPalettes.viridis(min(maxColors,256))\n",
    "cMax=max(dataFrame.max().max(),numLouvain)\n",
    "fact=1\n",
    "if cMax>numLouvain:\n",
    "    fact=cMax/numLouvain\n",
    "source  = bokehModels.ColumnDataSource( pd.DataFrame(dataFrame.stack(), columns=['membership']).reset_index() )\n",
    "source2 = bokehModels.ColumnDataSource( data=dict(x=list(dataFrame.index), y=[nVecs+1]*nNodes,\n",
    "                                                  level_0=listNames,\n",
    "                                                  membership=[int(fact*d) for k,d in GConsensus.nodes(data='modularity')]) )\n",
    "mapper = bokehModels.LinearColorMapper(palette=palette2, low=-0.5, high=cMax+0.5)"
   ]
  },
  {
   "cell_type": "code",
   "execution_count": null,
   "id": "57be2503-d95c-46ec-9d85-8692a7f8aa39",
   "metadata": {},
   "outputs": [],
   "source": [
    "dfMerge = pd.merge( dfTopology, dataFrame, left_on='key', right_index=True )\n",
    "dfMerge.to_csv(outputPrefix+'_spectral_clusters.csv', index=False)"
   ]
  },
  {
   "cell_type": "code",
   "execution_count": null,
   "id": "1409238d-6cec-4fd5-bbb1-daa7177976cd",
   "metadata": {},
   "outputs": [],
   "source": [
    "fig = bokehPlotting.figure(width=1000, height=400, title=titleGraph,\n",
    "                           x_axis_label='Node ID', y_axis_label='Spectral Clusters',\n",
    "                           x_range=list(dataFrame.index),\n",
    "                           tools = \"pan,wheel_zoom,box_zoom,box_select,tap,save,reset,help\")\n",
    "fig.grid.grid_line_color = None\n",
    "fig.axis.axis_line_color = None\n",
    "fig.xaxis.major_label_orientation = \"vertical\"\n",
    "#fig.yaxis.ticker = basicTicker()\n",
    "fig.yaxis.ticker = np.arange(1,nVecs+2)\n",
    "fig.yaxis.major_label_overrides = {nVecs+1: 'Louvain'}\n",
    "fig.axis.major_tick_line_color = None\n",
    "fig.toolbar.active_scroll = fig.select_one(bokehModels.WheelZoomTool)\n",
    "\n",
    "cir  = fig.rect(x=\"level_0\", y=\"level_1\", width=1, height=1,source=source,\n",
    "               fill_color={'field': 'membership', 'transform': mapper},line_color=None)\n",
    "cir2 = fig.rect(x=\"x\", y=\"y\", width=1, height=1,source=source2,\n",
    "               fill_color={'field': 'membership', 'transform': mapper},line_color=None)\n",
    "cbar = bokehModels.ColorBar(title='Group Membership', color_mapper=mapper, border_line_color=None, location=(0, 0))\n",
    "fig.add_layout(cbar, 'right')\n",
    "\n",
    "tooltips = [(\"Name\", \"@level_0\"),(\"Member\",\"@membership\")]\n",
    "fig.add_tools(bokehModels.HoverTool(tooltips=tooltips))\n",
    "\n",
    "if not bPythonExport:\n",
    "    output_notebook()\n",
    "else:\n",
    "    output_file(outputPrefix+'_spectral_clusters.html')\n",
    "    \n",
    "show(fig)"
   ]
  },
  {
   "cell_type": "markdown",
   "id": "6cc81f94-30f6-4375-9ff3-4e64740f019e",
   "metadata": {},
   "source": [
    "## Compute, export and plot eigenvector overlaps"
   ]
  },
  {
   "cell_type": "code",
   "execution_count": null,
   "id": "9dc58cce-edb7-46a4-8375-eec13ddea198",
   "metadata": {},
   "outputs": [],
   "source": [
    "dataFrame = pd.DataFrame( compute_eigenvector_overlap(v,nVecs) )\n",
    "dataFrame.rename_axis('eigenvector', axis=1)\n",
    "dataFrame.rename_axis('eigenvector', axis=0)"
   ]
  },
  {
   "cell_type": "code",
   "execution_count": null,
   "id": "22261308-72be-4ee1-a20c-3f16423c309c",
   "metadata": {},
   "outputs": [],
   "source": [
    "dataFrame.to_csv(outputPrefix+'_overlap.csv', index=True)"
   ]
  },
  {
   "cell_type": "code",
   "execution_count": null,
   "id": "793cc82f-2a86-4f0d-82a7-702f6edfd7af",
   "metadata": {},
   "outputs": [],
   "source": [
    "palette3 = bokehPalettes.viridis(256)\n",
    "source = bokehModels.ColumnDataSource( pd.DataFrame(dataFrame.stack(), columns=['overlap']).reset_index() )\n",
    "mapper = bokehModels.LinearColorMapper(palette=palette3, low=0.0, high=1.0)"
   ]
  },
  {
   "cell_type": "code",
   "execution_count": null,
   "id": "4da3328d-bd86-4bbc-b5b9-63f533af551b",
   "metadata": {},
   "outputs": [],
   "source": [
    "fig = bokehPlotting.figure(width=500, height=400, title=titleGraph,\n",
    "                           x_axis_label='eigenvector', y_axis_label='eigenvector',\n",
    "                           tools = \"pan,wheel_zoom,box_zoom,box_select,tap,save,reset,help\")\n",
    "fig.grid.grid_line_color = None\n",
    "fig.axis.axis_line_color = None\n",
    "fig.axis.major_tick_line_color = None\n",
    "fig.xaxis.ticker = basicTicker()\n",
    "fig.yaxis.ticker = basicTicker()\n",
    "\n",
    "cir = fig.rect(x=\"level_0\", y=\"level_1\", width=1, height=1,source=source,fill_color={'field': 'overlap', 'transform': mapper},line_color=None)\n",
    "\n",
    "cbar = bokehModels.ColorBar(title='Overlap', color_mapper=mapper, border_line_color=None, location=(0, 0))\n",
    "fig.add_layout(cbar, 'right')\n",
    "\n",
    "tooltips = [(\"Pair\",\"@level_0,@level_1\"),(\"Overlap\", \"@overlap\")]\n",
    "fig.add_tools(bokehModels.HoverTool(tooltips=tooltips))"
   ]
  },
  {
   "cell_type": "code",
   "execution_count": null,
   "id": "d215a97d-9d16-4ac4-8360-f51a091fdc28",
   "metadata": {},
   "outputs": [],
   "source": [
    "if not bPythonExport:\n",
    "    output_notebook()\n",
    "else:\n",
    "    output_file(outputPrefix+'_overlap.html')\n",
    "    \n",
    "show(fig)"
   ]
  },
  {
   "cell_type": "markdown",
   "id": "33db658d-8fd5-4c72-aec4-781d38b1d965",
   "metadata": {},
   "source": [
    "## Compute, export and plot excess volumes"
   ]
  },
  {
   "cell_type": "code",
   "execution_count": null,
   "id": "578fc4ea-651b-488d-b347-b76bde92c72a",
   "metadata": {},
   "outputs": [],
   "source": [
    "values = compute_excess_volume(v,nVecs)"
   ]
  },
  {
   "cell_type": "code",
   "execution_count": null,
   "id": "4dce1e76-220c-4457-8e8f-d44ae29f677f",
   "metadata": {},
   "outputs": [],
   "source": [
    "source = bokehModels.ColumnDataSource( data=dict(x=np.arange(nVecs), y=values) )\n",
    "\n",
    "fig = bokehPlotting.figure(width=400, height=400, title=titleGraph,\n",
    "                           x_axis_label='eigenvector', y_axis_label='Excess volume',\n",
    "                           y_range=(0,1),\n",
    "                           tools = \"pan,wheel_zoom,box_zoom,box_select,tap,save,reset,help\")\n",
    "\n",
    "glyph = bokehModels.VBar(x=\"x\", top=\"y\", bottom=0, width=0.5, fill_color=\"#b3de69\")\n",
    "fig.add_glyph(source, glyph)\n",
    "\n",
    "if not bPythonExport:\n",
    "    output_notebook()\n",
    "else:\n",
    "    output_file(outputPrefix+'_excess.html')\n",
    "    \n",
    "show(fig)"
   ]
  },
  {
   "cell_type": "code",
   "execution_count": null,
   "id": "d35c99e9-9ea4-4660-b0ef-e52cc28c80f1",
   "metadata": {},
   "outputs": [],
   "source": [
    "l = community.generate_dendrogram(GConsensus)"
   ]
  },
  {
   "cell_type": "code",
   "execution_count": null,
   "id": "547f0d1a-5d15-4eaa-b972-b3316f14e283",
   "metadata": {},
   "outputs": [],
   "source": [
    "cMaxInit=0 ; scaleFactor = []\n",
    "for j in range(len(l)):\n",
    "    cMax = np.max( [d for d in l[j].values()] ) \n",
    "    if cMaxInit == 0:\n",
    "        cMaxInit = cMax\n",
    "    scaleFactor.append( cMaxInit/cMax )\n",
    "\n",
    "arr = []\n",
    "for k0 in range(nNodes):\n",
    "    k = k0\n",
    "    branchNode = [] \n",
    "    for j in range(len(l)):\n",
    "        k = l[j][k]\n",
    "        branchNode.append( int(k*scaleFactor[j]) )\n",
    "    arr.append(branchNode)\n",
    "dataFrame = pd.DataFrame( arr, index=listNames )"
   ]
  },
  {
   "cell_type": "code",
   "execution_count": null,
   "id": "7dd19e03-8a06-4d15-a7cf-b1860f91693b",
   "metadata": {},
   "outputs": [],
   "source": [
    "dataFrame.rename_axis('Louvain Dendrogram', axis=1)\n",
    "dataFrame.rename_axis('Node ID', axis=0)\n",
    "maxColors = dataFrame.max().max()+1\n",
    "palette2 = bokehPalettes.viridis(min(maxColors,256))\n",
    "source  = bokehModels.ColumnDataSource( pd.DataFrame(dataFrame.stack(), columns=['membership']).reset_index() )\n",
    "mapper = bokehModels.LinearColorMapper(palette=palette2, low=-0.5, high=dataFrame.max().max()+0.5)"
   ]
  },
  {
   "cell_type": "code",
   "execution_count": null,
   "id": "a36ca80f-bc2d-4fc3-91ad-bfa5ff274311",
   "metadata": {},
   "outputs": [],
   "source": [
    "fig = bokehPlotting.figure(width=1000, height=400, title=titleGraph,\n",
    "                           x_axis_label='Node ID', y_axis_label='Louvain Dendrogram',\n",
    "                           x_range=listNames,\n",
    "                           tools = \"pan,wheel_zoom,box_zoom,box_select,tap,save,reset,help\")\n",
    "fig.grid.grid_line_color = None\n",
    "fig.axis.axis_line_color = None\n",
    "fig.xaxis.major_label_orientation = \"vertical\"\n",
    "#fig.yaxis.ticker = basicTicker()\n",
    "fig.yaxis.ticker = np.arange(1,nVecs+2)\n",
    "fig.yaxis.major_label_overrides = {nVecs+1: 'Louvain'}\n",
    "fig.axis.major_tick_line_color = None\n",
    "fig.toolbar.active_scroll = fig.select_one(bokehModels.WheelZoomTool)\n",
    "\n",
    "cir  = fig.rect(x=\"level_0\", y=\"level_1\", width=1, height=1,source=source,\n",
    "               fill_color={'field': 'membership', 'transform': mapper},line_color=None)\n",
    "cbar = bokehModels.ColorBar(title='Group Membership', color_mapper=mapper, border_line_color=None, location=(0, 0))\n",
    "fig.add_layout(cbar, 'right')\n",
    "\n",
    "tooltips = [(\"Name\", \"@level_0\"),(\"Member\",\"@membership\")]\n",
    "fig.add_tools(bokehModels.HoverTool(tooltips=tooltips))\n",
    "\n",
    "if not bPythonExport:\n",
    "    output_notebook()\n",
    "else:\n",
    "    output_file(outputPrefix+'_louvain_dendrogram.html')\n",
    "    \n",
    "show(fig)"
   ]
  },
  {
   "cell_type": "code",
   "execution_count": null,
   "id": "68903353-d2f3-41b4-a0df-4c0ba2130335",
   "metadata": {},
   "outputs": [],
   "source": []
  }
 ],
 "metadata": {
  "kernelspec": {
   "display_name": "Python 3",
   "language": "python",
   "name": "python3"
  },
  "language_info": {
   "codemirror_mode": {
    "name": "ipython",
    "version": 3
   },
   "file_extension": ".py",
   "mimetype": "text/x-python",
   "name": "python",
   "nbconvert_exporter": "python",
   "pygments_lexer": "ipython3",
   "version": "3.8.10"
  }
 },
 "nbformat": 4,
 "nbformat_minor": 5
}
