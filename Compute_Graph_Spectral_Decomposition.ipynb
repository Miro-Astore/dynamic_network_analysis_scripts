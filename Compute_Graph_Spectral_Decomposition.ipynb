{
 "cells": [
  {
   "cell_type": "markdown",
   "id": "f1db64b2-1350-4ff4-9365-5d0b3375d5cb",
   "metadata": {},
   "source": [
    "# Generating Graph-based heirarchies via eigenvector decomposition\n",
    "\n",
    "This script is about extracting more data from the fact that the adjacency matrix, containing the eighted edges between nodes, can be diagonalised tos yield a set of eigenvector ($v_\\lambda$) and eigvenvalues ($\\lambda$). This application is called **spectral graph theory**: https://en.wikipedia.org/wiki/Spectral_graph_theory\n",
    "\n",
    "The first eigenvalue $\\lambda_1$ extracts the eigenvector centrality ($v_{\\lambda1}$), which also guarantees that all of $v_{\\lambda1}$ elements are >=0. This is convenient for many node-weighted analyses that don't play well with negative weights. Like most authors, we interpret this to be the influence graph - however, it is importance that it is only the influence of the **largest cohesive domain within the protein**. You will often note that for multidomain protein graphs, the centrality often identified only one domain, with all others as almost zero.\n",
    "\n",
    "This is because spectral decomposition actually partitions the graph into functioning subunits. The negative values of subsequent $v_\\lambda$ tells us \n",
    "something important about the intra-graph dynamics. Like the harmonics of a vibrating string, discrete domains will tend to anti-correlate so as to preserve the linear independence of spectral decomposition.\n",
    "\n",
    "Thus, the relative values of domains tells us something important about the cooperativity between domains. Graph-wise, the level of interconnectedness. This scales from zero for completely independent subunits to some as yet unknown maximum for a single domain protein.\n",
    "\n",
    "*Note: This is the MD-equivalent  of Kundu et al. (2006)'s work on using Gaussian Network Models to decompose proteins into discrete domains.*\n",
    "\n",
    "*Also c.f. Mishra et al. (2018) as they compare the correlation networked generated from MD to GNM, and find that they largely agree.*"
   ]
  },
  {
   "cell_type": "code",
   "execution_count": null,
   "id": "1a492657-9fa4-453e-9778-8a0c10ad684c",
   "metadata": {
    "ExecuteTime": {
     "end_time": "2020-06-04T23:09:43.829281Z",
     "start_time": "2020-06-04T23:09:34.192482Z"
    }
   },
   "outputs": [],
   "source": [
    "# Load the python package\n",
    "import os\n",
    "from dynetan.toolkit import *\n",
    "from dynetan.viz import *\n",
    "from dynetan.proctraj import *\n",
    "from dynetan.gencor import *# Load the python package\n",
    "import os\n",
    "from dynetan.toolkit import *\n",
    "from dynetan.viz import *\n",
    "from dynetan.proctraj import *\n",
    "from dynetan.gencor import *\n",
    "from dynetan.contact import *\n",
    "from dynetan.datastorage import *\n",
    "\n",
    "import numpy as np\n",
    "import pandas as pd"
   ]
  },
  {
   "cell_type": "code",
   "execution_count": null,
   "id": "c5ad938a-336b-4802-b47f-bf803dc3c62a",
   "metadata": {},
   "outputs": [],
   "source": [
    "# For visualization\n",
    "from bokeh.io import output_file, output_notebook, push_notebook, show\n",
    "from bokeh import models as bokehModels\n",
    "from bokeh import transform as bokehTransform\n",
    "from bokeh import layouts as bokehLayouts\n",
    "from bokeh import plotting as bokehPlotting\n",
    "from bokeh import palettes as bokehPalettes\n",
    "from bokeh import events as bokehEvents\n",
    "# For pre-calculating CArtesian distances based on 2D embedding\n",
    "from sklearn.manifold import MDS"
   ]
  },
  {
   "cell_type": "code",
   "execution_count": null,
   "id": "cbd67d61-31d6-40a2-84d4-ac3273f576b5",
   "metadata": {},
   "outputs": [],
   "source": [
    "def convert_booleans_to_binary(arrBools):\n",
    "    return np.multiply(arrBools,np.power(2,np.arange(len(listBools)-1,-1,-1)))\n",
    "\n",
    "def extract_spectral_heirarchy(v, nVec=2, bCompress=False):\n",
    "    \"\"\"\n",
    "    Assumes right eigenvectors for now with v[:,i] corresponding to eigenvalue i\n",
    "    \"\"\"\n",
    "    tempArr = np.zeros( (v.shape[0],nVec), dtype='bool' )\n",
    "    tempArr = v[:,:nVec] < 0\n",
    "    outArr  = np.zeros( (v.shape[0],nVec), dtype='int' )\n",
    "    for i in range(1,nVec):\n",
    "        # = = = Rank the highest eigenvector as the smallest contributor to the binary heirarchical decomposition\n",
    "        powers = np.power(2,np.arange(i,-1,-1))*2**(nVec-i-1)\n",
    "        #print( i, powers)\n",
    "        outArr[:,i] = np.sum( np.multiply( tempArr[:,:i+1], powers ), axis=1)\n",
    "        \n",
    "    if bCompress:\n",
    "        dictMap = { b:a for a,b in enumerate(np.unique(outArr)) }\n",
    "        for i in range(outArr.shape[0]):\n",
    "            for j in range(outArr.shape[1]):\n",
    "                outArr[i,j]=dictMap[outArr[i,j]]\n",
    "        return outArr\n",
    "    else:\n",
    "        return outArr\n",
    "\n",
    "def compute_eigenvector_overlap_inner(v1,v2):\n",
    "    return np.sum(np.fabs(np.multiply(v1,v2)))\n",
    "    #return np.dot(np.square(v1),np.square(v2))\n",
    "    #return np.dot(np.fabs(v1),np.fabs(v2))\n",
    "    #return np.dot(v1,v2)\n",
    "\n",
    "def compute_eigenvector_overlap(v, nVec=2):\n",
    "    outArr = np.zeros((nVec,nVec))\n",
    "    for i in range(nVec):\n",
    "        outArr[i,i]=compute_eigenvector_overlap_inner(v[:,i],v[:,i])\n",
    "        \n",
    "    for i in range(nVec-1):\n",
    "        for j in range(i+1,nVec):\n",
    "            outArr[i,j]=outArr[j,i]=compute_eigenvector_overlap_inner(v[:,i],v[:,j])\n",
    "    \n",
    "    return outArr"
   ]
  },
  {
   "cell_type": "code",
   "execution_count": null,
   "id": "7f95f79b-f7d0-40be-9030-29b8644d6f98",
   "metadata": {},
   "outputs": [],
   "source": [
    "def build_structure_dataframe(atomSel, key, style='VMD'):\n",
    "    \"\"\"\n",
    "    Returns a 3-column pandas data frame containing the segid, resid, and name for use in exporting.\n",
    "    This makes selecting the atoms in a visualiser much easier\n",
    "    \"\"\"\n",
    "    dataBlock = np.stack( (key, atomSel.segids,atomSel.resids,atomSel.names), axis=1)\n",
    "    if style == 'VMD':\n",
    "        colNames = ['key','segname','resid','name']\n",
    "    elif style == 'MDA':\n",
    "        colNames = ['key','segid','resid','name']\n",
    "    return pd.DataFrame( dataBlock, columns = colNames )"
   ]
  },
  {
   "cell_type": "markdown",
   "id": "70f8b441-8f0e-48cf-a497-52564a28fd2c",
   "metadata": {},
   "source": [
    "## Parameter setting for terminal and notebook formats"
   ]
  },
  {
   "cell_type": "code",
   "execution_count": null,
   "id": "78603adc-d228-4017-bc1a-a86f68c7bb00",
   "metadata": {},
   "outputs": [],
   "source": [
    "bPythonExport = False"
   ]
  },
  {
   "cell_type": "code",
   "execution_count": null,
   "id": "e1557aaf-1319-4383-b4de-66978dc080cf",
   "metadata": {},
   "outputs": [],
   "source": [
    "if bPythonExport:\n",
    "    import argparse\n",
    "    parser = argparse.ArgumentParser(description='Perform graph spectral decomposition on a pre-computed DNAD file.',\n",
    "                                                 formatter_class=argparse.ArgumentDefaultsHelpFormatter)\n",
    "    parser.add_argument('-n', '--num_vecs', type=int, dest='numVecs', default=4,\n",
    "                        help='Number of eigenvectors to report. Noting that the first eigenvector is the canonical centrality, '\n",
    "                             'with higher components denoting divisions into influential sub-domains.')\n",
    "    parser.add_argument('-i', '--input', type=str, dest='inputPrefix', default=None, required=True,\n",
    "                        help='Input prefix used to generate files from Step 1.')\n",
    "    parser.add_argument('-o', '--output', type=str, dest='outputPrefix', default=None, required=True,\n",
    "                        help='The prefix for all output files, included HTML visualisations aand data files')\n",
    "    parser.add_argument('-r','--ref', type=str, dest='referencePrefix', default=None,\n",
    "                        help='(Not currently used) An equivalent input prefix to include a reference Step 1 computation for comparison.')\n",
    "    parser.add_argument('--title', type=str, dest='titleGraph', default='Spectral Decomposition',\n",
    "                        help='Name of the graph titles to be shown in the output HTML.')\n",
    "    \n",
    "    args = parser.parse_args()\n",
    "    \n",
    "    fullPathRoot   = args.inputPrefix\n",
    "    filePDBRef = fullPathRoot+\"_reducedTraj.pdb\"\n",
    "    outputPrefix = args.outputPrefix\n",
    "    nVecs = args.numVecs\n",
    "    titleGraph     = args.titleGraph\n",
    "    bComparison = False\n",
    "    if args.referencePrefix is not None:\n",
    "        fullPathRootB = args.referencePrefix\n",
    "        filePDBRefB = fullPathRootB+\"_reducedTraj.pdb\"\n",
    "        bComparison = True"
   ]
  },
  {
   "cell_type": "code",
   "execution_count": null,
   "id": "2fc2cf00-b7d6-4729-ad8e-25d6dd7cd5aa",
   "metadata": {
    "tags": []
   },
   "outputs": [],
   "source": [
    "# = = = Change to the relevant work folder\n",
    "if not bPythonExport:\n",
    "    systemExample=\"periplasmic\"\n",
    "    if systemExample == \"UbqCHARMM\" or systemExample == \"UbqTempProfile\":\n",
    "        %cd /home/zharmad/host/projects/Ubq-md\n",
    "    elif systemExample == \"UbqAthi\":\n",
    "        %cd /home/zharmad/host/shared-colleague/Ubq-2017\n",
    "    elif systemExample == \"periplasmic\":\n",
    "        %cd /home/zharmad/projects/periplasmic/leucine-binding_protein\n",
    "    elif systemExample == \"caspase-1\":\n",
    "        %cd /home/zharmad/host/projects/caspase-1\n",
    "    elif systemExample == \"CFTR\":\n",
    "        %cd /home/zharmad/projects/cftr/DyNetAn\n",
    "    else:\n",
    "        %cd .."
   ]
  },
  {
   "cell_type": "code",
   "execution_count": null,
   "id": "e104a2e3-9b74-491a-b9de-fa55c47df3cb",
   "metadata": {},
   "outputs": [],
   "source": [
    "if not bPythonExport:\n",
    "    nVecs=5\n",
    "    outputDir=None\n",
    "    if systemExample == \"UbqCHARMM\":\n",
    "        # apo1 apo2 apo3\n",
    "        state=\"apo1\" ; dataDir = \"./dynetan\"        \n",
    "        fileNameRoot = \"%s_5x1000\" % state\n",
    "        stateB=\"apo2\" ; dataDirB = dataDir\n",
    "        fileNameRootB = \"%s_5x1000\" % stateB\n",
    "    elif systemExample == \"UbqTempProfile\":\n",
    "        state=\"Ubq\" ; dataDir = \"./dynetan\"\n",
    "        fileNameRoot = \"ubq-Temp-profile\"\n",
    "        nameDataset = [\"%iK\" % (w*20+280) for w in range(5)]\n",
    "    elif systemExample == \"UbqAthi\":\n",
    "        # UbqI13V  UbqI23A  UbqI30A  UbqL43A  UbqL67A  UbqL69A  UbqV17A  UbqWT\n",
    "        state=\"UbqL43A\" ; dataDir = \"./dynetan\"\n",
    "        fileNameRoot = \"%s_5x200\" % state\n",
    "        stateB=\"UbqWT\" ; dataDirB = dataDir\n",
    "        fileNameRootB = \"%s_5x200\" % stateB\n",
    "        nameConsensus ='L43A' ; nameConsensusB='WT'\n",
    "    elif systemExample == \"periplasmic\":\n",
    "        # apo holo\n",
    "        state=\"apo\" ; dataDir = \"./dynetan\"\n",
    "        fileNameRoot = \"%s_5x200\" % state\n",
    "        stateB=\"holo\" ; dataDirB = dataDir\n",
    "        fileNameRootB = \"%s_5x200\" % stateB\n",
    "        nameConsensus ='holo/closed'\n",
    "        nameConsensusB='apo/open'\n",
    "    elif systemExample == \"caspase-1\":\n",
    "        state=\"on-state\" ; dataDir = \"./dynetan\"\n",
    "        fileNameRoot = \"%s_5x1000\" % state\n",
    "        stateB=\"off-state\" ; dataDirB = dataDir\n",
    "        fileNameRootB = \"%s_5x1000\" % stateB\n",
    "        nameConsensus ='On state' ; nameConsensusB='Off state'\n",
    "    elif systemExample == \"CFTR\":\n",
    "        # Define mutant file IO locations. wt, P67L, E56K, R75Q, S945L, dF508, Q1291H, etc.\n",
    "        state=\"dF508\" ; temperature=\"310K\"\n",
    "        dataDir = \"./results/%s/%s/\" % (state, temperature)\n",
    "        #Path where results will be written (you may want plots and data files in a new location)\n",
    "        outputDir = \"./results/%s/%s/analysis\" % (state, temperature)\n",
    "        fileNameRoot = \"1to3\"\n",
    "        stateB=\"wt\" ; dataDirB = \"./results/%s/%s/\" % (stateB, temperature)\n",
    "        fileNameRootB = \"1to6\"\n",
    "        \n",
    "    else:\n",
    "        raise KeyboardInterrupt\n",
    "        \n",
    "    #Path where results will be written (you may want plots and data files in a new location)\n",
    "    if outputDir is None:\n",
    "        outputDir = \"./dynetan/analysis\"\n",
    "    fullPathRoot = os.path.join(dataDir, fileNameRoot)\n",
    "    filePDBRef = fullPathRoot+\"_reducedTraj.pdb\"\n",
    "    \n",
    "    # outputDir is not currently used.\n",
    "    outputPrefix = \"./spectralDecomp\"\n",
    "    titleGraph  = \"%s network\" % state\n",
    "    #if bComparison:\n",
    "           \n",
    "    bComparison = False\n",
    "    if bComparison:\n",
    "        fullPathRootB = os.path.join(dataDirB, fileNameRootB)\n",
    "        filePDBRefB = fullPathRootB+\"_reducedTraj.pdb\"\n",
    "        outputFileName = \"./networkView-%s-comparison.html\" % state\n",
    "        \n",
    "        titleGraph = \"%s - %s comparison\" % (state, stateB)"
   ]
  },
  {
   "cell_type": "markdown",
   "id": "a693bc7e-1ed9-403a-bcbc-b457bdb07773",
   "metadata": {
    "tags": []
   },
   "source": [
    "## Load the relevant data into DNAD objects"
   ]
  },
  {
   "cell_type": "code",
   "execution_count": null,
   "id": "6b17456b-7606-4654-9814-b3db9d5abe92",
   "metadata": {
    "ExecuteTime": {
     "end_time": "2020-06-04T23:09:45.368030Z",
     "start_time": "2020-06-04T23:09:45.364339Z"
    }
   },
   "outputs": [],
   "source": [
    "print(\"= = = Loading input graph data...\")\n",
    "dnad = DNAdata()\n",
    "# = = = loadFromFile will automatically output debug lines.\n",
    "dnad.loadFromFile(fullPathRoot)\n",
    "#mdU = mda.Universe( \"./UbqWT/reference.pdb\" )\n",
    "mdU = mda.Universe( filePDBRef )\n",
    "dnad.nodesAtmSel = mdU.atoms[ dnad.nodesIxArray ]"
   ]
  },
  {
   "cell_type": "code",
   "execution_count": null,
   "id": "9128dc50-2258-4aee-9076-e724ba89bb25",
   "metadata": {},
   "outputs": [],
   "source": [
    "if bComparison:\n",
    "    print(\"= = = Loading reference data...\")\n",
    "    dnadB = DNAdata()\n",
    "    dnadB.loadFromFile(fullPathRootB)\n",
    "    mdUB = mda.Universe( filePDBRefB )\n",
    "    dnadB.nodesAtmSel = mdUB.atoms[ dnadB.nodesIxArray ]\n",
    "else:\n",
    "    dnadB = dnad\n",
    "    mdUB = mdU"
   ]
  },
  {
   "cell_type": "code",
   "execution_count": null,
   "id": "4ba3e752-cc61-4a2f-bb07-37304adfaa4c",
   "metadata": {},
   "outputs": [],
   "source": [
    "def compute_consensus_graph(listG):\n",
    "    \"\"\"\n",
    "    The node_properties and edge properties are the values to take averages of.\n",
    "    Assumes nodes are the same between all graphs in the list.\n",
    "    Assumes that the union of all edges should be used, rather than the intersection of all edges.\n",
    "    \"\"\"\n",
    "    nGraphs = len(listG)\n",
    "    outG = nx.Graph()\n",
    "    # = = = Create Nodes and Edges = = =\n",
    "    for x, c in listG[0].nodes.data('name', default=None):\n",
    "        outG.add_node(x, name=c, communityID=0)\n",
    "        \n",
    "    dictWeights={} ; dictCounts={}\n",
    "    for w in range(nGraphs):\n",
    "        for u, v, c in listG[w].edges.data('name', default=None):\n",
    "            if (u,v) not in outG.edges():\n",
    "                outG.add_edge(u,v,name=c)\n",
    "                dictWeights[u,v]=listG[w].edges[u,v]['weight']\n",
    "                dictCounts[u,v]=1\n",
    "            else:\n",
    "                dictWeights[u,v]+=listG[w].edges[u,v]['weight']\n",
    "                dictCounts[u,v]+=1\n",
    "    for k, v in dictWeights.items():\n",
    "        outG.edges[k]['weight'] = v/dictCounts[k]\n",
    "    return outG"
   ]
  },
  {
   "cell_type": "code",
   "execution_count": null,
   "id": "266b92a5-a489-4530-9345-3b2a21cc3fc2",
   "metadata": {},
   "outputs": [],
   "source": [
    "def build_test_graph(numNodes, style):\n",
    "    G = nx.Graph()\n",
    "    if style == 'coil':\n",
    "        for i in range(numNodes-1):\n",
    "            G.add_edge(i,i+1)        \n",
    "    return G"
   ]
  },
  {
   "cell_type": "code",
   "execution_count": null,
   "id": "5a5fcbad-5197-4625-bb71-9dbc6948bc7c",
   "metadata": {},
   "outputs": [],
   "source": [
    "def basicTicker():\n",
    "    return bokehModels.BasicTicker(min_interval=1, max_interval=1, num_minor_ticks=1)"
   ]
  },
  {
   "cell_type": "markdown",
   "id": "95af3a80-e8d9-49a2-9078-7e1a01e49853",
   "metadata": {},
   "source": [
    "## Get consensus graph and compute adjacency matrix alongside eigenvectors"
   ]
  },
  {
   "cell_type": "code",
   "execution_count": null,
   "id": "f24ee41a-1551-4fe8-9fb8-5ea42fec26e8",
   "metadata": {},
   "outputs": [],
   "source": [
    "GConsensus = compute_consensus_graph(dnad.nxGraphs)\n",
    "for n,d in dnad.nxGraphs[0].nodes(data='name'):\n",
    "    GConsensus.nodes[n]['name']=d\n",
    "listNames = [ d for x,d in GConsensus.nodes(data='name') ]"
   ]
  },
  {
   "cell_type": "code",
   "execution_count": null,
   "id": "219eb0c3-6128-4dbe-aeb4-383901f38bf8",
   "metadata": {},
   "outputs": [],
   "source": [
    "dfTopology = build_structure_dataframe(dnad.nodesAtmSel, listNames)"
   ]
  },
  {
   "cell_type": "code",
   "execution_count": null,
   "id": "a1850183-7426-4dbc-b033-0541eff33a83",
   "metadata": {},
   "outputs": [],
   "source": [
    "adjMat   = nx.convert_matrix.to_numpy_array(GConsensus, weight='weight', nonedge=0.0)\n",
    "nNodes = GConsensus.number_of_nodes()"
   ]
  },
  {
   "cell_type": "code",
   "execution_count": null,
   "id": "15ef6b3d-78ed-4c02-b4e2-82cc39230c45",
   "metadata": {},
   "outputs": [],
   "source": [
    "palette = bokehPalettes.viridis(nVecs)\n",
    "w, v = np.linalg.eigh(adjMat)\n",
    "v = np.flip(v,axis=1)\n",
    "# = = = Normalise v_lambda for net positive\n",
    "for i in range(nVecs):\n",
    "    if np.sum(v[:,i])<0:\n",
    "        v[:,i] *= -1"
   ]
  },
  {
   "cell_type": "markdown",
   "id": "e1d9be2b-48b6-428c-82a1-30bf6ae16bc1",
   "metadata": {},
   "source": [
    "## Plot eigenvector distributions"
   ]
  },
  {
   "cell_type": "code",
   "execution_count": null,
   "id": "a0abbada-65f7-4503-9d1a-43d13f9292e2",
   "metadata": {},
   "outputs": [],
   "source": [
    "dataFrame = pd.DataFrame( v[:,:nVecs], index=listNames)"
   ]
  },
  {
   "cell_type": "code",
   "execution_count": null,
   "id": "0b07ec15-5e33-4f8c-a24f-ae4b1f55b8f4",
   "metadata": {},
   "outputs": [],
   "source": [
    "dfMerge = pd.merge( dfTopology, dataFrame, left_on='key', right_index=True )\n",
    "dfMerge.to_csv(outputPrefix+'_eigenvectors.csv', index=False)"
   ]
  },
  {
   "cell_type": "code",
   "execution_count": null,
   "id": "61b5c537-1fc5-4f98-a077-4279c3aca097",
   "metadata": {},
   "outputs": [],
   "source": [
    "source = bokehModels.ColumnDataSource(data=dict())\n",
    "source.data['name'] = listNames\n",
    "for i in range(nVecs):\n",
    "    nameField='v%i'%i\n",
    "    source.data[nameField] = v[:,i]\n",
    "    #source.data[nameField] = np.sign(v[:,i])\n",
    "    \n",
    "fig = bokehPlotting.figure(width=1000, height=400, title=titleGraph,\n",
    "                           x_axis_label='Node ID', y_axis_label='eigenvector',\n",
    "                           x_range=listNames,\n",
    "                           tools = \"pan,wheel_zoom,box_zoom,box_select,tap,save,reset,help\")\n",
    "fig.xaxis.major_label_orientation = \"vertical\"\n",
    "fig.toolbar.active_scroll = fig.select_one(bokehModels.WheelZoomTool)\n",
    "\n",
    "for i in range(nVecs):\n",
    "    nameField='v%i'%i\n",
    "    fig.line('name', nameField, legend_label=nameField, source=source,line_width=1, line_color=palette[i])\n",
    "fig.legend.click_policy=\"hide\"    \n",
    "\n",
    "tooltips = [(\"Name\", \"@name\")]\n",
    "fig.add_tools(bokehModels.HoverTool(tooltips=tooltips))\n",
    "\n",
    "if not bPythonExport:\n",
    "    output_notebook()\n",
    "else:\n",
    "    output_file(outputPrefix+'_eigenvectors.html')\n",
    "    \n",
    "show(fig)"
   ]
  },
  {
   "cell_type": "code",
   "execution_count": null,
   "id": "0e09cec1-c658-4cc8-83e2-8412a3af9d80",
   "metadata": {},
   "outputs": [],
   "source": [
    "dataFrame = pd.DataFrame( extract_spectral_heirarchy(v,nVecs, bCompress=True), index=listNames)\n",
    "\n",
    "dataFrame.rename_axis('Heirarchy', axis=1)\n",
    "dataFrame.rename_axis('Node ID', axis=0)\n",
    "maxColors = dataFrame.max().max()+1\n",
    "palette2 = bokehPalettes.viridis(min(maxColors,256))\n",
    "\n",
    "source = bokehModels.ColumnDataSource( pd.DataFrame(dataFrame.stack(), columns=['membership']).reset_index() )\n",
    "mapper = bokehModels.LinearColorMapper(palette=palette2, low=dataFrame.min().min()-0.5, high=dataFrame.max().max()+0.5)"
   ]
  },
  {
   "cell_type": "code",
   "execution_count": null,
   "id": "063135d3-af8e-4e12-b668-58ffad09d25d",
   "metadata": {},
   "outputs": [],
   "source": [
    "dfMerge = pd.merge( dfTopology, dataFrame, left_on='key', right_index=True )\n",
    "dfMerge.to_csv(outputPrefix+'_node_heirarchy.csv', index=False)"
   ]
  },
  {
   "cell_type": "markdown",
   "id": "763c8eba-4af8-4dee-a504-34eba71ed0af",
   "metadata": {},
   "source": [
    "## Plot heirarchical divisions in sequence space"
   ]
  },
  {
   "cell_type": "code",
   "execution_count": null,
   "id": "903a2ee6-0824-4713-82f3-bc6f5c6c958e",
   "metadata": {},
   "outputs": [],
   "source": [
    "fig = bokehPlotting.figure(width=1000, height=400, title=titleGraph,\n",
    "                           x_axis_label='Node ID', y_axis_label='Heirarchy level',\n",
    "                           x_range=list(dataFrame.index),\n",
    "                           tools = \"pan,wheel_zoom,box_zoom,box_select,tap,save,reset,help\")\n",
    "fig.grid.grid_line_color = None\n",
    "fig.axis.axis_line_color = None\n",
    "fig.xaxis.major_label_orientation = \"vertical\"\n",
    "fig.yaxis.ticker = basicTicker()\n",
    "fig.axis.major_tick_line_color = None\n",
    "fig.toolbar.active_scroll = fig.select_one(bokehModels.WheelZoomTool)\n",
    "\n",
    "cir = fig.rect(x=\"level_0\", y=\"level_1\", width=1, height=1,source=source,fill_color={'field': 'membership', 'transform': mapper},line_color=None)\n",
    "cbar = bokehModels.ColorBar(title='Group Membership', color_mapper=mapper, border_line_color=None, location=(0, 0))\n",
    "fig.add_layout(cbar, 'right')\n",
    "\n",
    "tooltips = [(\"Name\", \"@level_0\"),(\"Member\",\"@membership\")]\n",
    "fig.add_tools(bokehModels.HoverTool(tooltips=tooltips))\n",
    "\n",
    "if not bPythonExport:\n",
    "    output_notebook()\n",
    "else:\n",
    "    output_file(outputPrefix+'_node_heirarchy.html')\n",
    "    \n",
    "show(fig)"
   ]
  },
  {
   "cell_type": "code",
   "execution_count": null,
   "id": "9dc58cce-edb7-46a4-8375-eec13ddea198",
   "metadata": {},
   "outputs": [],
   "source": [
    "dataFrame = pd.DataFrame( compute_eigenvector_overlap(v,nVecs) )\n",
    "\n",
    "dataFrame.rename_axis('eigenvector', axis=1)\n",
    "dataFrame.rename_axis('eigenvector', axis=0)\n",
    "\n",
    "dataFrame.to_csv(outputPrefix+'_overlap.csv', index=True)\n",
    "\n",
    "palette3 = bokehPalettes.viridis(256)\n",
    "source = bokehModels.ColumnDataSource( pd.DataFrame(dataFrame.stack(), columns=['overlap']).reset_index() )\n",
    "mapper = bokehModels.LinearColorMapper(palette=palette3, low=dataFrame.min().min(), high=dataFrame.max().max())"
   ]
  },
  {
   "cell_type": "code",
   "execution_count": null,
   "id": "4da3328d-bd86-4bbc-b5b9-63f533af551b",
   "metadata": {},
   "outputs": [],
   "source": [
    "fig = bokehPlotting.figure(width=800, height=800, title=titleGraph,\n",
    "                           x_axis_label='eigenvector', y_axis_label='eigenvector',\n",
    "                           tools = \"pan,wheel_zoom,box_zoom,box_select,tap,save,reset,help\")\n",
    "fig.grid.grid_line_color = None\n",
    "fig.axis.axis_line_color = None\n",
    "fig.axis.major_tick_line_color = None\n",
    "fig.xaxis.ticker = basicTicker()\n",
    "fig.yaxis.ticker = basicTicker()\n",
    "\n",
    "cir = fig.rect(x=\"level_0\", y=\"level_1\", width=1, height=1,source=source,fill_color={'field': 'overlap', 'transform': mapper},line_color=None)\n",
    "\n",
    "cbar = bokehModels.ColorBar(title='Overlap', color_mapper=mapper, border_line_color=None, location=(0, 0))\n",
    "fig.add_layout(cbar, 'right')\n",
    "\n",
    "tooltips = [(\"Pair\",\"@level_0,@level_1\"),(\"Overlap\", \"@overlap\")]\n",
    "fig.add_tools(bokehModels.HoverTool(tooltips=tooltips))\n",
    "\n",
    "if not bPythonExport:\n",
    "    output_notebook()\n",
    "else:\n",
    "    output_file(outputPrefix+'_overlap.html')\n",
    "\n",
    "show(fig)"
   ]
  },
  {
   "cell_type": "code",
   "execution_count": null,
   "id": "114b741c-a906-4b17-bb10-13a5ce1844c6",
   "metadata": {},
   "outputs": [],
   "source": []
  }
 ],
 "metadata": {
  "kernelspec": {
   "display_name": "Python 3",
   "language": "python",
   "name": "python3"
  },
  "language_info": {
   "codemirror_mode": {
    "name": "ipython",
    "version": 3
   },
   "file_extension": ".py",
   "mimetype": "text/x-python",
   "name": "python",
   "nbconvert_exporter": "python",
   "pygments_lexer": "ipython3",
   "version": "3.8.10"
  }
 },
 "nbformat": 4,
 "nbformat_minor": 5
}
