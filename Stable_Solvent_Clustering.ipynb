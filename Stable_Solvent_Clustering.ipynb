{
 "cells": [
  {
   "cell_type": "code",
   "execution_count": null,
   "id": "cd12330e-db5f-4078-9314-47fd1bfe6fe6",
   "metadata": {},
   "outputs": [],
   "source": [
    "import os\n",
    "import numpy as np\n",
    "import networkx as nx\n",
    "from itertools import combinations\n",
    "from collections import OrderedDict, Counter\n",
    "from sklearn.cluster import AgglomerativeClustering"
   ]
  },
  {
   "cell_type": "code",
   "execution_count": null,
   "id": "c105e1cd-bb95-45bc-a4af-c777e3d808ef",
   "metadata": {},
   "outputs": [],
   "source": [
    "dictMutantOrder=OrderedDict()\n",
    "dictMutantOrder['Wild-type']=['wt','M470V']\n",
    "dictMutantOrder['Lasso Elbow & TMD1']=['R117C','R117H','E92K','E56K','G85E','I148T','R74W','R75Q','P67L','E60K','M1101K']\n",
    "dictMutantOrder['R-Domain']=['I37R','R31C','D836Y','E826K']\n",
    "dictMutantOrder['Pore Architecture']=['L927P','R347H','R347P']\n",
    "dictMutantOrder['Lower-TM8']=['S945L','M952T']\n",
    "dictMutantOrder['Pore Conductance']=['D1152H']\n",
    "dictMutantOrder['ATP-binding']=['Q1291F','Q1291H','G551D','G551S','S549R','D529N','F575Y']\n",
    "dictMutantOrder['NBD Integrity']=['V520F','R560T','D513G','dF508','R1066C','R1066H']\n",
    "dictMutantOrder['Outer-NBD1']=['A455E','D614G','L467P']\n",
    "dictMutantOrder['Drug Resistance']=['N1303K']\n",
    "dictMutantOrder['Outer-NBD2']=['S1235R']\n",
    "#flattenedMutantOrder = [j for i in mutantOrder for j in i]\n",
    "flattenedMutantOrder=[]\n",
    "for k in dictMutantOrder:\n",
    "    flattenedMutantOrder.extend( dictMutantOrder[k] )"
   ]
  },
  {
   "cell_type": "code",
   "execution_count": null,
   "id": "bd27cb43-0bc4-4947-8ab6-98385ee2d015",
   "metadata": {},
   "outputs": [],
   "source": [
    "polarRes={'SER','THR','ASN','GLN','ASP','GLU','TYR','TRP','ARG','LYS','HIS','HSD','HSE'}\n",
    "def match_name(s):\n",
    "    for x in polarRes:\n",
    "        if x in s:\n",
    "            return True\n",
    "    return False\n",
    "\n",
    "def parse_contact_pairs(fileName, minWeight=0.0, bPolarOnly=False):\n",
    "    G = nx.Graph()\n",
    "    G.source=fileName\n",
    "    with open( fileName, 'r' ) as fp:\n",
    "        for line in fp:\n",
    "            l=line.split() ; w = float(l[2])\n",
    "            if bPolarOnly:\n",
    "                if not match_name(l[1]):\n",
    "                    continue\n",
    "            if w < minWeight:\n",
    "                continue\n",
    "            ligID  = l[0]\n",
    "            #protID = l[1]\n",
    "            segID, resName, resID = l[1].split(\":\")\n",
    "            # = = Deal with mutants here for now.\n",
    "            protID = \"%s:%s\" % (segID, resID)                \n",
    "            G.add_edge(ligID,protID, weight=w)\n",
    "            G.nodes[ligID]['resType']='solvent'\n",
    "            G.nodes[protID]['resType']='solute'\n",
    "            G.nodes[ligID]['source']=fileName\n",
    "            G.nodes[protID]['source']=fileName\n",
    "            \n",
    "    G.solventIDs  = [ x for x,y in G.nodes(data='resType') if y == 'solvent']\n",
    "    G.numSolvents = len(G.solventIDs)    \n",
    "    for k in G.solventIDs:\n",
    "        G.nodes[k]['meanWeight'] = np.mean( [ G.edges[x]['weight'] for x in G.edges(k)] )\n",
    "\n",
    "    G.soluteIDs   = [ x for x,y in G.nodes(data='resType') if y == 'solute']\n",
    "    G.numSolutes  = len(G.soluteIDs)            \n",
    "    return G"
   ]
  },
  {
   "cell_type": "code",
   "execution_count": null,
   "id": "37bf07d5-8439-49cf-ad77-ae6a80f7d760",
   "metadata": {},
   "outputs": [],
   "source": [
    "def map_solvent_contacts(GFrom, GTo):\n",
    "    lFrom = GFrom.solventIDs ; nFrom=len(lFrom)\n",
    "    lTo = GTo.solventIDs ; nTo=len(lTo)\n",
    "    matOverlap=np.zeros( (nFrom, nTo) )\n",
    "    #matOverlap={} ; matOverlapRev={}\n",
    "    for i, a in enumerate(lFrom):\n",
    "        setAA = {aa for aa in GFrom[a]}\n",
    "        for j,b in enumerate(lTo):\n",
    "            setBB = {bb for bb in GTo[b]}\n",
    "            matOverlap[i,j] = calc_Jaccard(setAA,setBB)\n",
    "            #matOverlap[a,b]=1.0*len(setAA.intersection(setBB))/np.max((len(setAA),len(setBB)))\n",
    "            #matOverlapRev[b,a]=1.0*len(setAA.intersection(setBB))/np.max((len(setAA),len(setBB)))\n",
    "            #print(i,j,setAA.intersection(setBB), len(setAA), len(setAA.intersection(setBB)), len(setBB) )\n",
    "    return matOverlap"
   ]
  },
  {
   "cell_type": "code",
   "execution_count": null,
   "id": "645395a0-101f-4fee-afcf-fd9938274965",
   "metadata": {},
   "outputs": [],
   "source": [
    "def renumber_clusterIDs_by_size(c):\n",
    "\n",
    "    counter = Counter(c)\n",
    "    mapping={}\n",
    "    for i,x in enumerate(counter.most_common()):\n",
    "        #print(i,x)\n",
    "        mapping[x[0]] = i\n",
    "    #mapping = {v: k for k, v in mapping.items()}\n",
    "    return np.array([mapping[x] for x in c])"
   ]
  },
  {
   "cell_type": "code",
   "execution_count": null,
   "id": "4d27b7f6-fd76-4e90-9914-4287893646aa",
   "metadata": {},
   "outputs": [],
   "source": [
    "def get_files_from_list(fileName, order=None):\n",
    "    out=[]\n",
    "    with open(fileName,'r') as fp:\n",
    "        for line in fp:\n",
    "            l=line.split()\n",
    "            out.append(l[0])   \n",
    "    if order is not None:\n",
    "        outB=[] ; bAssigned=np.repeat(False, len(out))\n",
    "        for m in order:\n",
    "            for i,x in enumerate(out):\n",
    "                if m in x:\n",
    "                    outB.append( x )\n",
    "                    bAssigned[i]=True\n",
    "        for i,x in enumerate(out):\n",
    "            if not bAssigned[i]:\n",
    "                print(\"= = Note: %s has not been matched to the mutant order\" % x)\n",
    "                outB.append( x )\n",
    "        print(\" = = reordered file list, debuging lengths before and after: %i -> %i\" % (len(out), len(outB)) )\n",
    "        if len(out) != len(outB):\n",
    "            print( out )\n",
    "            print( outB )\n",
    "        return outB\n",
    "    else:\n",
    "        return out"
   ]
  },
  {
   "cell_type": "code",
   "execution_count": null,
   "id": "fc3f5718-48b1-451c-a9fd-91550735dfea",
   "metadata": {},
   "outputs": [],
   "source": [
    "def filter_mutant_names(stringList, searchList):\n",
    "    out=[]\n",
    "    for i in stringList:\n",
    "        bFound=False\n",
    "        for j in searchList:\n",
    "            if j in i:\n",
    "                bFound=True\n",
    "                out.append(j)\n",
    "                break\n",
    "        if not bFound:\n",
    "            print(\" = = WARNING: %s is not in mutant list.\" % i)\n",
    "    return out"
   ]
  },
  {
   "cell_type": "code",
   "execution_count": null,
   "id": "eb301075-cc59-4e3d-8a53-16e695d73ecc",
   "metadata": {},
   "outputs": [],
   "source": [
    "def calc_Jaccard(sA, sB):\n",
    "    return len(set.intersection(sA,sB))/len(set.union(sA,sB))"
   ]
  },
  {
   "cell_type": "code",
   "execution_count": null,
   "id": "1fee8c77-e6dd-43ca-abf7-cb0ebb6e0699",
   "metadata": {
    "tags": []
   },
   "outputs": [],
   "source": [
    "def get_neighbours(g, x):\n",
    "    return set(nx.neighbors(g,x))"
   ]
  },
  {
   "cell_type": "code",
   "execution_count": null,
   "id": "36e3fce8-9796-4f52-9f00-cf477f7f9287",
   "metadata": {
    "tags": []
   },
   "outputs": [],
   "source": [
    "def convert_to_selection(s):\n",
    "    selText=\"protein and resid\"\n",
    "    for x in s:\n",
    "        resid=x.split(\":\")[-1]\n",
    "        selText=selText+\" \"+resid\n",
    "    return selText"
   ]
  },
  {
   "cell_type": "code",
   "execution_count": null,
   "id": "b002dcb4-c22b-4a20-a69c-544e5014d259",
   "metadata": {},
   "outputs": [],
   "source": [
    "#contactPairsFile='./list_contactPairs_SOL_d5.0_r0.50.txt'\n",
    "contactPairsFile='./list_contactPairs_SOL_d3.5_r0.25.txt'\n",
    "minWeight=0.25"
   ]
  },
  {
   "cell_type": "code",
   "execution_count": null,
   "id": "587133f3-dbfa-41e8-9db2-8f56561b75a1",
   "metadata": {},
   "outputs": [],
   "source": [
    "%cd .."
   ]
  },
  {
   "cell_type": "code",
   "execution_count": null,
   "id": "2581fe3a-1c33-4504-b078-734a4c4edd1d",
   "metadata": {},
   "outputs": [],
   "source": [
    "bPolarOnly=False\n",
    "listG = []\n",
    "#for repl in range(1,4):\n",
    "#    fileName = './trajectories/%s/%s/%i/%s' % (allele, temperature, repl, pairFile)\n",
    "numSolvents = 0\n",
    "offsetSolvents = []\n",
    "fileNames = get_files_from_list(contactPairsFile,order=flattenedMutantOrder)\n",
    "for f in fileNames:\n",
    "    tempG = parse_contact_pairs( f, minWeight, bPolarOnly)\n",
    "    listG.append( tempG )\n",
    "    offsetSolvents.append( numSolvents )\n",
    "    numSolvents+= tempG.numSolvents\n",
    "numG = len(listG)\n",
    "offsetSolvents.append( numSolvents )\n",
    "\n",
    "mutantNames = filter_mutant_names(fileNames, flattenedMutantOrder)\n",
    "for i in range(numG):\n",
    "    listG[i].allele=mutantNames[i]\n",
    "print(\" = = Number of graphs read:\", numG )\n",
    "print(\" = = Total number of solvent molecules identified:\", numSolvents )\n",
    "print(\" = = Offsets:\", offsetSolvents )"
   ]
  },
  {
   "cell_type": "code",
   "execution_count": null,
   "id": "c01f634e-e75a-4ea5-ab4d-aa6b661fc7bb",
   "metadata": {},
   "outputs": [],
   "source": [
    "# = = = Report basic connectivity\n",
    "for G in listG:\n",
    "    print(\"%s contains %i solute residues and %i solvent residues.\" % (G.source, G.numSolutes, G.numSolvents))\n",
    "    print(\"    ...Solute node degrees:\", end=' ')\n",
    "    for k in G.soluteIDs:\n",
    "        print( len(G[k]), end=' ')\n",
    "    print('')\n",
    "    print(\"    ...Solvent node degrees:\", end=' ')\n",
    "    for k in G.solventIDs:\n",
    "        print( len(G[k]), end=' ')\n",
    "    print('')"
   ]
  },
  {
   "cell_type": "code",
   "execution_count": null,
   "id": "64cece7e-b534-4b35-83d2-6c1d2b5cf5c7",
   "metadata": {},
   "outputs": [],
   "source": [
    "# = = Construct solventID lists for overall map\n",
    "hostSolvents=[]\n",
    "nameSolvents=[]\n",
    "for i in range(numG):\n",
    "    hostSolvents.extend(np.repeat(i,listG[i].numSolvents))\n",
    "    nameSolvents.extend( listG[i].solventIDs )"
   ]
  },
  {
   "cell_type": "code",
   "execution_count": null,
   "id": "b3954bb4-1be6-4237-8375-6b77ba53fc51",
   "metadata": {},
   "outputs": [],
   "source": [
    "# = = Going to a giant map of M[G1,G2][key1,key2], can use a numpy array for this, although \n",
    "mapIntersects = np.zeros( (numSolvents,numSolvents) )\n",
    "for i,j in combinations(range(numG),2):\n",
    "    G1=listG[i] ; G2=listG[j] ;\n",
    "    submap = map_solvent_contacts(G1, \n",
    "                                  G2)\n",
    "    ii = offsetSolvents*i\n",
    "    jj = offsetSolvents*j\n",
    "    mapIntersects[offsetSolvents[i]:offsetSolvents[i+1],offsetSolvents[j]:offsetSolvents[j+1]] = submap\n",
    "    #mapNodes[j,i] = mapNodes[i,j].T\n",
    "    #maxIntersects[i,j] = maxIntersects[j,i] = np.max(mapNodes[i,j])\n",
    "    #countIntersects[i,j] = countIntersects[j,i] = len(mapNodes[i,j]>0)"
   ]
  },
  {
   "cell_type": "code",
   "execution_count": null,
   "id": "29259bd2-f7d3-42e5-937c-c7e4c0f4dd53",
   "metadata": {},
   "outputs": [],
   "source": [
    "# from sklearn.neighbors import DistanceMetric\n",
    "# dist = DistanceMetric.get_metric('jaccard')\n",
    "# This one is useless too.\n",
    "#dist.pairwise(e1,e2)"
   ]
  },
  {
   "cell_type": "code",
   "execution_count": null,
   "id": "550b7418-fd5e-46b8-b3aa-c29773493ad7",
   "metadata": {},
   "outputs": [],
   "source": [
    "from matplotlib import pyplot as plt\n",
    "from matplotlib import cm\n",
    "import matplotlib.ticker as ticker\n",
    "\n",
    "sizeFigure=(12,9)"
   ]
  },
  {
   "cell_type": "code",
   "execution_count": null,
   "id": "e16d2f68-feb8-4528-865e-064b6b2a8456",
   "metadata": {},
   "outputs": [],
   "source": [
    "listMatDiff=[]\n",
    "#listDistThres=[0.4,0.6,0.8,1.0]\n",
    "listDistThres=[1.0]\n",
    "#listDistThres=[0.5]\n",
    "listClustCounts=[]\n",
    "listClustIDs=[]\n",
    "listClustGraph=[]\n",
    "numList=len(listDistThres)\n",
    "nRow=np.min( (2,numList) ) ; nCol=int(0.5+numList/2)\n",
    "for distThres in listDistThres:\n",
    "    clust = AgglomerativeClustering(n_clusters=None, affinity='precomputed', \n",
    "                                    linkage='complete', distance_threshold=distThres)\n",
    "    clust.fit(1.0-mapIntersects)\n",
    "    clustIDs = renumber_clusterIDs_by_size(clust.labels_)\n",
    "    numClust = clust.n_clusters_\n",
    "\n",
    "    clustContacts=[]\n",
    "    clustCounts=[]\n",
    "    for i in range( numClust ):\n",
    "        indices = np.where( clustIDs == i )[0]\n",
    "        nCount=len(indices)\n",
    "        clustCounts.append(nCount)\n",
    "        if nCount>1:\n",
    "            neighbourList=[]\n",
    "            for j in indices:\n",
    "                neighbourList.append( get_neighbours( listG[hostSolvents[j]], nameSolvents[j] ) )\n",
    "            union = neighbourList.pop().union(*neighbourList)\n",
    "        else:\n",
    "            union = get_neighbours( listG[hostSolvents[indices[0]]], nameSolvents[indices[0]] )\n",
    "        clustContacts.append(union)\n",
    "            \n",
    "    matDiff=np.ones( (numClust,numClust) )\n",
    "    for i,j in combinations( range(numClust),2):\n",
    "        matDiff[i,j] = matDiff[j,i] = calc_Jaccard(clustContacts[i],clustContacts[j])   \n",
    "        \n",
    "    clustGraph = nx.Graph()\n",
    "    for n, c in enumerate(clustCounts):\n",
    "        clustGraph.add_node(n, size=c)\n",
    "    for i,j in combinations( range(numClust),2):\n",
    "        if matDiff[i,j]>0:\n",
    "            clustGraph.add_edge(i,j,weight=matDiff[i,j])\n",
    "              \n",
    "    listMatDiff.append( matDiff )\n",
    "    listClustCounts.append(clustCounts)\n",
    "    listClustIDs.append(clustIDs)\n",
    "    listClustGraph.append(clustGraph)"
   ]
  },
  {
   "cell_type": "code",
   "execution_count": null,
   "id": "cb21da85-edd5-46fe-9ce5-91d5033efce3",
   "metadata": {},
   "outputs": [],
   "source": [
    "for i in range(numList):\n",
    "    nDuplicates=0 ; j=0\n",
    "    for a,b in zip(offsetSolvents[:-1],offsetSolvents[1:]):\n",
    "        print( \"Simulation %s water IDs:\" % fileNames[j], np.sort(listClustIDs[i][a:b]) )\n",
    "        if b-a > len( np.unique(listClustIDs[i][a:b]) ):\n",
    "            nDuplicates+=1\n",
    "        j+=1\n",
    "    if nDuplicates > 0:\n",
    "        print( \"= = Note: Threshold %g leads to %i simulations that assign multiple waters to the same cluster.\" % (listDistThres[i], nDuplicates) )\n",
    "    else:\n",
    "        print( \"= = Note: Threshold %g duplicate check assignment passed.\" % (listDistThres[i])) "
   ]
  },
  {
   "cell_type": "code",
   "execution_count": null,
   "id": "e709cd5e-49d8-4562-a3fe-fbcdf64c5e7b",
   "metadata": {},
   "outputs": [],
   "source": [
    "def merge_adjacent_labels( xCoords, labels):\n",
    "    x=xCoords.copy() ; l=labels.copy()\n",
    "    outX=[] ; outLabels=[]\n",
    "    xPrev=[] ; labelPrev=\"\"\n",
    "    while len(l) > 0 :\n",
    "        xThis = x.pop(0) ; labelThis = l.pop(0)\n",
    "        if labelPrev == \"\":\n",
    "            xPrev.append( xThis ) ; labelPrev=labelThis\n",
    "        elif labelPrev != labelThis:\n",
    "            outX.append( np.mean(xPrev) ) ; outLabels.append( labelPrev )\n",
    "            xPrev = [ xThis ] ; labelPrev = labelThis\n",
    "        else:\n",
    "            xPrev.append( xThis )\n",
    "    if xPrev != []:\n",
    "        outX.append( np.mean(xPrev) ) ; outLabels.append( labelPrev )    \n",
    "    return outX, outLabels"
   ]
  },
  {
   "cell_type": "code",
   "execution_count": null,
   "id": "fb04bc6a-fd83-4fd3-993b-cdc64399290f",
   "metadata": {},
   "outputs": [],
   "source": [
    "fig, axes = plt.subplots(nRow, nCol, figsize=sizeFigure)\n",
    "\n",
    "for i in range(numList):\n",
    "    jj = i % nCol ; ii = int(i / nCol)\n",
    "    axThis = axes[ii,jj] if numList>1 else axes\n",
    "    dictSizes   = nx.get_node_attributes(listClustGraph[i],'size') ; arrSizes = [ dictSizes[x] for x in listClustGraph[i].nodes  ] ; maxSize = np.max(arrSizes) ; minSize = 1\n",
    "    dictWeights = nx.get_edge_attributes(listClustGraph[i],'weight')\n",
    "    posInit = nx.kamada_kawai_layout(listClustGraph[i], weight='weight', scale=1, center=(0,0), dim=2)\n",
    "    pos = nx.spring_layout(listClustGraph[i], pos=posInit, scale=1, center=(0,0), weight='weight', k=0.5)\n",
    "    #pos = nx.spectral_layout(listClustGraph[i], weight='weight', scale=1, center=(0,0), dim=2)\n",
    "    gg = nx.draw_networkx_nodes(listClustGraph[i], pos, ax=axThis, alpha=0.6,\n",
    "                                node_size  = [ 5*x+300 for x in arrSizes  ],\n",
    "                                node_color = [ x for x in arrSizes ],\n",
    "                                cmap = cm.get_cmap('Wistia'), vmin=minSize, vmax=maxSize)\n",
    "    plt.colorbar(gg, label='Count of simulations with solvent site occupancy. # Sims: %i' % numG, ax=axThis)    \n",
    "    gg = nx.draw_networkx_edges(listClustGraph[i], pos, ax=axThis, \n",
    "                                edge_color = [ dictWeights[x] for x in listClustGraph[i].edges  ],\n",
    "                                edge_cmap = cm.get_cmap('binary'), edge_vmin=0.0, edge_vmax=1.0, width=2)\n",
    "    gg = nx.draw_networkx_labels(listClustGraph[i], pos, ax=axThis, font_size=14, font_weight='bold')                         \n",
    "\n",
    "#    plt.colorbar(im, label='Mean contact occcupancy', ax=axThis)\n",
    "    axThis.set_title('Solvent mapping graph by threshold %g , nClust = %i' % (1.0-listDistThres[i], len(listClustCounts[i])))\n",
    "#plt.colorbar(im, ax=axThis)\n",
    "plt.tight_layout()\n",
    "plt.savefig('./solvent_mapping_cluster_graph.png')"
   ]
  },
  {
   "cell_type": "code",
   "execution_count": null,
   "id": "52d29817-b063-47ce-afc1-04c995bdcae1",
   "metadata": {},
   "outputs": [],
   "source": [
    "fig, axes = plt.subplots(nRow, nCol, figsize=sizeFigure)\n",
    "\n",
    "mutantLabels = merge_adjacent_labels( [i for i in range(len(mutantNames))], mutantNames )\n",
    "for i in range(numList):\n",
    "    jj = i % nCol ; ii = int(i / nCol)\n",
    "    axThis = axes[ii,jj] if numList>1 else axes\n",
    "    j=0 ; listXVals=[] ; listYVals=[]  ; listWeights=[] ; listXLabels=[]; alleleName=\"\" ; offsetX=0\n",
    "    for a,b in zip(offsetSolvents[:-1],offsetSolvents[1:]):\n",
    "        if alleleName != listG[j].allele and alleleName!=\"\":\n",
    "                offsetX+=1\n",
    "        alleleName = listG[j].allele        \n",
    "        listYVals.extend( listClustIDs[i][a:b] )\n",
    "        listXVals.extend( np.repeat( j+offsetX, b-a )  )\n",
    "        listWeights.extend( [ listG[j].nodes[k]['meanWeight'] for k in listG[j].solventIDs ] )\n",
    "        j+=1\n",
    "    im = axThis.scatter(listXVals, listYVals, c=listWeights, cmap='viridis', vmin=0.0, vmax=1.0, edgecolors='k')\n",
    "    mutantLabels = merge_adjacent_labels( list(np.unique(listXVals)), mutantNames )\n",
    "    \n",
    "    axThis.set_xlabel( 'Simulation ID' ) ; axThis.set_ylabel( 'Cluster ID' )\n",
    "    axThis.set_xticks( mutantLabels[0] ) ; axThis.set_xticklabels( mutantLabels[1], rotation='vertical')\n",
    "    #axThis.xaxis.set_major_locator(ticker.MultipleLocator(5)) ; axThis.xaxis.set_minor_locator(ticker.MultipleLocator(1))\n",
    "    axThis.yaxis.set_major_locator(ticker.MultipleLocator(5)) ; axThis.yaxis.set_minor_locator(ticker.MultipleLocator(1))    \n",
    "    plt.colorbar(im, label='Mean contact occcupancy', ax=axThis)\n",
    "    axThis.set_title('Site occupancy by simulation by threshold %g , nClust = %i' % (1.0-listDistThres[i], len(listClustCounts[i])))\n",
    "#plt.colorbar(im, ax=axThis)\n",
    "plt.tight_layout()\n",
    "plt.savefig('./solvent_mapping_cluster_occupancies.png')"
   ]
  },
  {
   "cell_type": "code",
   "execution_count": null,
   "id": "63c37301-460a-4981-804c-e09c095fc179",
   "metadata": {},
   "outputs": [],
   "source": [
    "fig, axes = plt.subplots(nRow,nCol, figsize=sizeFigure)\n",
    "for i in range(numList):\n",
    "    jj = i % nCol ; ii = int(i / nCol)\n",
    "    axThis = axes[ii,jj] if numList>1 else axes\n",
    "    cMap = cm.get_cmap(\"Wistia\")\n",
    "    rescale = lambda y: (y - np.min(y)) / (np.max(y) - np.min(y))\n",
    "    im = axThis.bar(range(len(listClustCounts[i])), listClustCounts[i], color=cMap(rescale(listClustCounts[i])), edgecolor='k')\n",
    "    axThis.set_xlabel( 'cluster ID' ) ; axThis.set_ylabel( 'Count of simulations with solvent site occupancy. # Sims: %i' % numG )    \n",
    "    axThis.xaxis.set_major_locator(ticker.MultipleLocator(5)) ; axThis.xaxis.set_minor_locator(ticker.MultipleLocator(1))\n",
    "    axThis.yaxis.set_major_locator(ticker.MultipleLocator(5)) ; axThis.yaxis.set_minor_locator(ticker.MultipleLocator(1))       \n",
    "    axThis.set_title('Clustering solvent sites by threshold %g , nClust = %i' % (1.0-listDistThres[i], len(listClustCounts[i])))\n",
    "#plt.colorbar(im, ax=axThis)\n",
    "plt.tight_layout()\n",
    "plt.savefig('./solvent_mapping_cluster_counts.png')"
   ]
  },
  {
   "cell_type": "code",
   "execution_count": null,
   "id": "dc139f88-3d39-4262-9b01-be290901fdcb",
   "metadata": {},
   "outputs": [],
   "source": [
    "fig, axes = plt.subplots(nRow,nCol, figsize=sizeFigure)\n",
    "for i in range(numList):\n",
    "    jj = i % nCol ; ii = int(i / nCol)\n",
    "    axThis = axes[ii,jj] if numList>1 else axes\n",
    "    im = axThis.imshow(listMatDiff[i], cmap=\"viridis\")    \n",
    "    axThis.set_xlim( left=-1 ) ;  axThis.set_ylim( top=-1 )\n",
    "    axThis.set_xlabel( 'cluster ID' ) ; axThis.set_ylabel( 'cluster ID' )\n",
    "    axThis.xaxis.set_major_locator(ticker.MultipleLocator(5)) ; axThis.xaxis.set_minor_locator(ticker.MultipleLocator(1))\n",
    "    axThis.yaxis.set_major_locator(ticker.MultipleLocator(5)) ; axThis.yaxis.set_minor_locator(ticker.MultipleLocator(1))    \n",
    "    maxVal=np.max( listMatDiff[i][np.where(listMatDiff[i]<1.0)] )\n",
    "    axThis.set_title('Jaccard sim. threshold %g, max sim. %g' % (1.0-listDistThres[i], maxVal))\n",
    "plt.colorbar(im, ax=axThis)\n",
    "plt.tight_layout()\n",
    "plt.savefig('./solvent_mapping_cluster_difference.png')"
   ]
  },
  {
   "cell_type": "code",
   "execution_count": null,
   "id": "b7caef1e-e8e4-42eb-8e6a-809a3d70c40c",
   "metadata": {},
   "outputs": [],
   "source": [
    "distThres=listDistThres[0]\n",
    "# = = Strategy: cluster this by agglomerative clustering\n",
    "#connectivity = mapIntersects>0\n",
    "clust = AgglomerativeClustering(n_clusters=None, affinity='precomputed', \n",
    "                                linkage='complete', distance_threshold=distThres)\n",
    "clust.fit(1.0-mapIntersects)\n",
    "clustIDs = renumber_clusterIDs_by_size(clust.labels_)\n",
    "numClust = clust.n_clusters_"
   ]
  },
  {
   "cell_type": "code",
   "execution_count": null,
   "id": "2acaa4b0-92ce-4dcf-bb8f-f363ed639fe7",
   "metadata": {},
   "outputs": [],
   "source": [
    "# = = = Add cluster information to graphs\n",
    "for cID, graphID, key in zip( clustIDs, hostSolvents, nameSolvents):\n",
    "    listG[ graphID ].nodes[key]['clusterID'] = cID"
   ]
  },
  {
   "cell_type": "code",
   "execution_count": null,
   "id": "50e8c7ec-b396-46f5-90c6-0b177e735c31",
   "metadata": {},
   "outputs": [],
   "source": [
    "print( \"= = Number of clusters:\", clust.n_clusters_ )\n",
    "#print( \"= = Label array:\", clust.labels_ )\n",
    "listProtContactIntersections = []\n",
    "listProtContactUnions = []\n",
    "for i in range( numClust ):\n",
    "    indices = np.where( clustIDs == i )[0]\n",
    "    print(\"  ...clustID %i : %i members\" % (i, len(indices)) )\n",
    "    #print(\"  \", indices)\n",
    "    if len(indices)>1:\n",
    "        neighbourList=[]\n",
    "        for j in indices:\n",
    "            #eighbours= [ [n for n in nx.neighbors(listG[0], x)] for x in listG[0].solventIDs ]\n",
    "            neighbourList.append( set(nx.neighbors( listG[hostSolvents[j]], nameSolvents[j] ) ) )\n",
    "        #print( \"...contacts:\", neighbourList )           \n",
    "        intersection = neighbourList.pop().intersection(*neighbourList)\n",
    "        union = neighbourList.pop().union(*neighbourList)\n",
    "        listProtContactIntersections.append( intersection )\n",
    "        listProtContactUnions.append( union )\n",
    "        print( convert_to_selection( intersection ) )\n",
    "        print( convert_to_selection( union ) )        \n",
    "    else:\n",
    "        j=indices[0]\n",
    "        s = set(nx.neighbors( listG[hostSolvents[j]], nameSolvents[j] ) ) \n",
    "        listProtContactIntersections.append( s )\n",
    "        listProtContactUnions.append( s )\n",
    "        print( \"    ...contacts:\", convert_to_selection(s) )\n",
    "        #print( [ edge for edge in listG[ hostSolvents[j] ][ nameSolvents[j] ] ] )\n",
    "    #The reference node: listG[ hostSolvents[i] ][ nameSolvents[i] ]\n"
   ]
  },
  {
   "cell_type": "code",
   "execution_count": null,
   "id": "51fda232-365b-4779-a70f-7f9ee6240db4",
   "metadata": {},
   "outputs": [],
   "source": [
    "for i in range(numG):\n",
    "    if 'D513' in listG[i].source:\n",
    "        print( i, listG[i].source )"
   ]
  },
  {
   "cell_type": "code",
   "execution_count": null,
   "id": "4b1907f0-3b0f-4fdf-b44a-df96ade23bc9",
   "metadata": {},
   "outputs": [],
   "source": [
    "for i in [29,30,31,32,33,34,52,53,54,55,56,57,58,59,60]:\n",
    "    print(listG[i].source)\n",
    "    print(\"Cluster waters:\", [b for a,b in listG[i].nodes(data='clusterID', default=-1) if b>=0] )"
   ]
  },
  {
   "cell_type": "code",
   "execution_count": null,
   "id": "7eb5d0d6-fdae-43f9-be52-949dc5c5ffcf",
   "metadata": {},
   "outputs": [],
   "source": [
    "# = = = Write Tcl renumbering module\n",
    "def format_solvent_indices_VMD(G):\n",
    "    out=\"\"\n",
    "    for k in G.solventIDs:\n",
    "        out+=\" %s\" % k.split(\"_\")[-1]\n",
    "    return out\n",
    "\n",
    "def format_cluster_indices_VMD(G, offset=0):\n",
    "    out=\"\"\n",
    "    for k in G.solventIDs:\n",
    "        out+=\" %s\" % str(G.nodes[k]['clusterID']+offset)\n",
    "    return out\n",
    "\n",
    "def export_tcl_psf_editor(fileName, listG):\n",
    "    sourceTOP='seg.psf' ; sourceTRJ='sum.xtc' ; outTOP='segRenum.psf'\n",
    "    newSegName='CRY'\n",
    "    fp = open(fileName,'w')\n",
    "    for G in listG:\n",
    "        sourceFolder=os.path.dirname(G.source)\n",
    "        print(\"set m [mol new %s waitfor all]\" % os.path.join(sourceFolder, sourceTOP), file=fp )\n",
    "        print(\"set indexList [list %s]\" % format_solvent_indices_VMD(G), file=fp)\n",
    "        print(\"set residList [list %s]\" % format_cluster_indices_VMD(G), file=fp)        \n",
    "        print(\"foreach i $indexList r $residList {\", file=fp)\n",
    "        print('    set selSolv [atomselect $m \"same residue as index $i\"]', file=fp)\n",
    "        print('    $selSolv set segname %s' % newSegName, file=fp)\n",
    "        print('    $selSolv set resid $r', file=fp)\n",
    "        print('    $selSolv delete', file=fp)\n",
    "        print('}', file=fp)\n",
    "        print('animate dup $m', file=fp)\n",
    "        print('animate write psf %s waitfor all $m' % os.path.join(sourceFolder, outTOP), file=fp)\n",
    "        print('mol delete $m', file=fp)\n",
    "        print('', file=fp)\n",
    "        #print('delete $m')\n",
    "    print('exit', file=fp)"
   ]
  },
  {
   "cell_type": "code",
   "execution_count": null,
   "id": "4eadb2f8-0ef8-4d33-9c3b-223c33528688",
   "metadata": {},
   "outputs": [],
   "source": [
    "export_tcl_psf_editor('./Stable_Solvent_Clustering.rename_solvents.tcl', listG)"
   ]
  },
  {
   "cell_type": "code",
   "execution_count": null,
   "id": "6a731987-b66a-4473-9092-bee157ad01d7",
   "metadata": {},
   "outputs": [],
   "source": [
    "def export_cluster_residue_definitions(fileName, intersects, unions):\n",
    "    nSet = len(intersects)\n",
    "    fp = open(fileName, 'w')\n",
    "    for i in range(nSet):\n",
    "        print(\"%i Intersection:\" % i, file=fp, end=' ')\n",
    "        print(*(intersects[i]), file=fp)\n",
    "        print(\"%i Union:\" % i, file=fp, end=' ')\n",
    "        print(*(unions[i]), file=fp)"
   ]
  },
  {
   "cell_type": "code",
   "execution_count": null,
   "id": "199a8eb5-4040-43aa-b309-d0ade200c729",
   "metadata": {},
   "outputs": [],
   "source": [
    "export_cluster_residue_definitions('./Stable_Solvent_Clustering.cluster_definitions.txt', listProtContactIntersections, listProtContactUnions)"
   ]
  },
  {
   "cell_type": "code",
   "execution_count": null,
   "id": "6eb862ec-a999-46dc-b093-c7632d148f8a",
   "metadata": {},
   "outputs": [],
   "source": []
  },
  {
   "cell_type": "code",
   "execution_count": null,
   "id": "009bb434-ab8e-476b-bfd1-821cd6d0c4e5",
   "metadata": {},
   "outputs": [],
   "source": []
  }
 ],
 "metadata": {
  "kernelspec": {
   "display_name": "Python 3",
   "language": "python",
   "name": "python3"
  },
  "language_info": {
   "codemirror_mode": {
    "name": "ipython",
    "version": 3
   },
   "file_extension": ".py",
   "mimetype": "text/x-python",
   "name": "python",
   "nbconvert_exporter": "python",
   "pygments_lexer": "ipython3",
   "version": "3.8.10"
  }
 },
 "nbformat": 4,
 "nbformat_minor": 5
}
