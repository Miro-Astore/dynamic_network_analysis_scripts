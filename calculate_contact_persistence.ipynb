{
 "cells": [
  {
   "cell_type": "markdown",
   "id": "9a700d63-3554-42a1-ba13-f1af8c9f8c45",
   "metadata": {},
   "source": [
    "# Overall Strategy\n",
    "1. First filter the molecules by their proximal distance to the protein.\n",
    "2. For the molecules with contacts over the bound, filter for the protein residues identities that they are in contact with.\n",
    "3. Sort through this second list of lists for those that also remain over the bound.\n",
    "4. Renumber of resid of this module according to the chain and resid of the protein"
   ]
  },
  {
   "cell_type": "code",
   "execution_count": null,
   "id": "d76b8fbb-6c12-4655-9c2a-4967e6071095",
   "metadata": {},
   "outputs": [],
   "source": [
    "import MDAnalysis as mda\n",
    "from MDAnalysis.analysis import distances as mdaDist\n",
    "import numpy as np\n",
    "from collections import Counter\n",
    "import os"
   ]
  },
  {
   "cell_type": "code",
   "execution_count": null,
   "id": "61117a97-39c3-43d5-9244-ca5888d11abc",
   "metadata": {},
   "outputs": [],
   "source": [
    "# = = = Time-keeping functions. TQDM is a simple progress bar that works in both Jupyter Notebook and terminals.\n",
    "import time\n",
    "from tqdm.auto import tqdm"
   ]
  },
  {
   "cell_type": "code",
   "execution_count": null,
   "id": "1f563982-9c10-4301-9954-2c7719a42d00",
   "metadata": {},
   "outputs": [],
   "source": [
    "bPythonScriptExport=False"
   ]
  },
  {
   "cell_type": "code",
   "execution_count": null,
   "id": "7c8af490-9af5-48da-aae9-f23d705fa54c",
   "metadata": {},
   "outputs": [],
   "source": [
    "# = = = Plotting results\n",
    "if bPythonScriptExport:\n",
    "    import matplotlib\n",
    "    matplotlib.use('pdf')\n",
    "else:\n",
    "    %matplotlib inline\n",
    "    #%matplotlib notebook\n",
    "from matplotlib import pyplot as plt\n",
    "import networkx as nx\n",
    "from networkx.drawing.nx_pylab import draw_networkx"
   ]
  },
  {
   "cell_type": "code",
   "execution_count": null,
   "id": "d324f976-e237-4b89-b7e8-43eddd5904f1",
   "metadata": {},
   "outputs": [],
   "source": [
    "if bPythonScriptExport:\n",
    "    import argparse\n",
    "    parser = argparse.ArgumentParser(description='Identify stable protein and water/chloride contact pairs in a trajectory',\n",
    "                                                 formatter_class=argparse.ArgumentDefaultsHelpFormatter)\n",
    "    parser.add_argument('--psf', type=str, dest='psfFile', default='seg.psf',\n",
    "                        help='The name of the protein structure file.')\n",
    "    parser.add_argument('--trj', type=str, dest='trjFile', default='sum.xtc',\n",
    "                        help='The name of the trajectory file.')\n",
    "    parser.add_argument('--out', type=str, dest='outputPrefix', default='contactPairs',\n",
    "                        help='A prefix for all output files generated.')\n",
    "    parser.add_argument('--sel', type=str, dest='selectionText', default='name OW and resname SOL',\n",
    "                        help='An MDAnalysis selection text that chooses one atom of each solvent residue to compute contacts from.'\n",
    "                       'Examples: \"name CL\" and \"name OW and resname SOL\". Solvent residue indices are often non-unique.')    \n",
    "    parser.add_argument('-r', type=float, dest='ratioCutoff', default=0.75,\n",
    "                        help='Minimum fraction of simulation frames pairs must be in contact.')\n",
    "    parser.add_argument('-k', type=int, dest='numKeepCutoff', default=None,\n",
    "                        help='(WIP) Alternative to the above, keep N waters with the most persistent contacts, regardless of cutoff.')\n",
    "    parser.add_argument('-d', type=float, dest='distCutoff', default=5.0,\n",
    "                        help='Maximum separation for pairs to be considered in contact.')\n",
    "    parser.add_argument('--in_mem', action='store_true', dest='bInMemory',\n",
    "                        help='Asks MDAnlaysis to load the entire trajectory into memory.')\n",
    "    args = parser.parse_args()\n",
    "    \n",
    "    ratioCutoff  = args.ratioCutoff\n",
    "    distCutoff   = args.distCutoff\n",
    "    outputPrefix = args.outputPrefix\n",
    "    psfFile      = args.psfFile\n",
    "    trjFile      = args.trjFile\n",
    "    bInMemory    = args.bInMemory\n",
    "    solvSelText  = args.selectionText"
   ]
  },
  {
   "cell_type": "code",
   "execution_count": null,
   "id": "26684cfe-9622-4de8-9a1d-a8d76c9e23a4",
   "metadata": {},
   "outputs": [],
   "source": [
    "if not bPythonScriptExport:\n",
    "    ratioCutoff=0.25 ; distCutoff = 3.5\n",
    "    filePathPrefix='./trajectories'\n",
    "    allele='wt' ; temperature='310K' ; replicate=1\n",
    "    sourceFolder='%s/%s/%s/%i' % (filePathPrefix, allele, temperature, replicate)\n",
    "    psfFile='%s/seg.psf' % sourceFolder\n",
    "    trjFile='%s/sum.xtc' % sourceFolder\n",
    "    bInMemory    = True\n",
    "    solvSelText  = \"name OW and resname SOL\"\n",
    "    #outputPrefix=sourceFolder+'contactPairs_SOL'\n",
    "    outputPrefix=os.path.join(sourceFolder,'contactPairs_SOL_%g_%g' % ( ratioCutoff, distCutoff ) )\n",
    "    print(outputPrefix)\n",
    "    #solvSelText  = \"name CL\"\n",
    "    #outputPrefix=sourceFolder+'contactPairs_CL'    "
   ]
  },
  {
   "cell_type": "code",
   "execution_count": null,
   "id": "fdfe57e2-d1f1-49b7-803e-291e8213c403",
   "metadata": {},
   "outputs": [],
   "source": [
    "def filter_unique_residues( atomSel ):\n",
    "    #return np.unique(atomSel.resids)\n",
    "    listExtendednameString = []\n",
    "    for x,y,z in zip(atomSel.segids, atomSel.resnames, atomSel.resids):\n",
    "        listExtendednameString.append( x+\":\"+y+\":\"+str(z) )\n",
    "    return np.unique( listExtendednameString )"
   ]
  },
  {
   "cell_type": "code",
   "execution_count": null,
   "id": "3465fa6f-f7a9-466c-a4ca-dcc73d420f58",
   "metadata": {},
   "outputs": [],
   "source": [
    "def count_indices_of_selection_over_trajectory(u, selectionText):\n",
    "    l=[]\n",
    "    atomSel = u.select_atoms(selectionText, updating=True)\n",
    "    print(\"= = (Time accounting) Looking for contacts using selection text: %s\" % selectionText )\n",
    "    print(\"    ...Starting at: %s\" % time.ctime() )\n",
    "    for f in tqdm(range(u.trajectory.n_frames)):\n",
    "        u.trajectory[f]\n",
    "        l.extend(atomSel.indices)\n",
    "    return Counter(l)"
   ]
  },
  {
   "cell_type": "code",
   "execution_count": null,
   "id": "914297ce-b9fd-4e76-a67f-381d9d518ded",
   "metadata": {
    "tags": []
   },
   "outputs": [],
   "source": [
    "def obtain_protein_contacts_of_highest_counts(u, counter, ratioCutoff, distCutoff):\n",
    "    # = = = Setup relevant dictionaries\n",
    "    minCounts = ratioCutoff*u.trajectory.n_frames\n",
    "    dictSelContacts={} ; dictProteinNearby={}\n",
    "    for x in counter.most_common():\n",
    "        if x[1]>=minCounts:\n",
    "            a = u.select_atoms(\"protein and around %f index %i\" % (distCutoff, x[0]), updating=True)\n",
    "            dictSelContacts[x[0]] = a\n",
    "            dictProteinNearby[x[0]] = []\n",
    "        else:\n",
    "            break\n",
    "\n",
    "    print(\"= = (Time accounting) Looking for protein contacts of indices with highest occupancy\")\n",
    "    print(\"    ...Starting at: %s\" % time.ctime() )\n",
    "    for f in tqdm(range(u.trajectory.n_frames)):\n",
    "        u.trajectory[f]\n",
    "        for i in dictSelContacts.keys():\n",
    "            listUniqueResidues = filter_unique_residues( dictSelContacts[i] )\n",
    "            dictProteinNearby[i].extend( listUniqueResidues )\n",
    "        \n",
    "    # = = = Convert list of protein resid occurrences to python Counter\n",
    "    for i in dictProteinNearby.keys():\n",
    "        dictProteinNearby[i] = Counter( dictProteinNearby[i] )            \n",
    "    \n",
    "    return dictProteinNearby"
   ]
  },
  {
   "cell_type": "code",
   "execution_count": null,
   "id": "4958a157-4644-4db7-af5e-cac19081d565",
   "metadata": {},
   "outputs": [],
   "source": [
    "def convert_contacts_to_edgelist(u, dictCounters, ratioCutoff=0.0):\n",
    "    edgeList=[]\n",
    "    minCounts = ratioCutoff*u.trajectory.n_frames\n",
    "    for i in dictCounters.keys():\n",
    "        for p in dictCounters[i].most_common():\n",
    "            if p[1]>=minCounts:\n",
    "                nameA = \"Index_%i\" % i\n",
    "                edgeList.append( (nameA, p[0], p[1]/u.trajectory.n_frames) )\n",
    "            else:\n",
    "                break\n",
    "    return edgeList"
   ]
  },
  {
   "cell_type": "code",
   "execution_count": null,
   "id": "d651deca-763d-4c68-9db8-7005fd1458e5",
   "metadata": {},
   "outputs": [],
   "source": [
    "def print_edgelist(fileName, edgeList):\n",
    "    fp = open(fileName,'w')\n",
    "    for a,b,c in edgeList:\n",
    "        print(a,b,c, file=fp)\n",
    "    fp.close()\n",
    "    \n",
    "def print_graph(fileName, edgeList):\n",
    "    delta=0.1 ; nCols=3\n",
    "    G = nx.Graph(name='Contact pairs')    \n",
    "    for x in edgeList:\n",
    "        G.add_edge(x[0],x[1],weight=x[2])\n",
    "    subGraphs = [G.subgraph(c).copy() for c in nx.connected_components(G)]\n",
    "    nSub=len(subGraphs) ; nRows=int(np.ceil(nSub/nCols))\n",
    "    if nSub < nCols:\n",
    "        fig = plt.figure(figsize=(8, 6))\n",
    "        wEdges = [G.edges[x]['weight'] for x in G.edges() ] \n",
    "        draw_networkx(G, font_size=9, node_color='white',\n",
    "                      edge_color=wEdges, style='dashed')\n",
    "        axThis = fig.get_axes()[0]\n",
    "        xLim = axThis.get_xlim() ; axThis.set_xlim( xLim[0]-delta, xLim[1]+delta )\n",
    "        yLim = axThis.get_ylim() ; axThis.set_ylim( yLim[0]-delta, yLim[1]+delta )\n",
    "        plt.axis('off')\n",
    "        plt.tight_layout()\n",
    "        plt.savefig(fileName)\n",
    "        return   \n",
    "    \n",
    "    fig, axes = plt.subplots(nRows,nCols, figsize=(4*nCols, 4*nRows) )\n",
    "    for i in range(nSub):\n",
    "        ii = int(i/nCols) ; jj = i % nCols\n",
    "        axThis = axes[ii,jj]\n",
    "        wEdges = [subGraphs[i].edges[x]['weight'] for x in subGraphs[i].edges() ] \n",
    "        draw_networkx(subGraphs[i], ax=axThis, font_size=9, node_color='white',\n",
    "                      edge_color=wEdges, style='dashed')\n",
    "        xLim = axThis.get_xlim() ; axThis.set_xlim( xLim[0]-delta*2, xLim[1]+delta*2 )\n",
    "        yLim = axThis.get_ylim() ; axThis.set_ylim( yLim[0]-delta, yLim[1]+delta )\n",
    "        axThis.set_axis_off()\n",
    "    plt.tight_layout()\n",
    "    plt.savefig(fileName)"
   ]
  },
  {
   "cell_type": "code",
   "execution_count": null,
   "id": "e40baa0f-7c41-4a8e-a6ae-d90047d16f44",
   "metadata": {},
   "outputs": [],
   "source": [
    "u = mda.Universe(psfFile, trjFile, in_memory=bInMemory)"
   ]
  },
  {
   "cell_type": "code",
   "execution_count": null,
   "id": "99687b04-a9ca-46d6-8400-4aacae3c922d",
   "metadata": {},
   "outputs": [],
   "source": [
    "u.trajectory.coordinate_array.shape"
   ]
  },
  {
   "cell_type": "code",
   "execution_count": null,
   "id": "7cdbdcfe-f035-4ff5-9c43-949eaa1ee12c",
   "metadata": {},
   "outputs": [],
   "source": [
    "counterNearbyWaters = count_indices_of_selection_over_trajectory(u,\n",
    "    \"%s and around %g protein\" % (solvSelText, distCutoff) )"
   ]
  },
  {
   "cell_type": "code",
   "execution_count": null,
   "id": "075f1a00-1037-472a-bee6-9b7b713fb4e3",
   "metadata": {},
   "outputs": [],
   "source": [
    "vals = np.array([ x[1] for x in counterNearbyWaters.most_common() ])\n",
    "plt.figure(figsize=(8, 4))\n",
    "plt.hist(vals, bins=int(u.trajectory.n_frames/20))\n",
    "plt.axvline(x=u.trajectory.n_frames*ratioCutoff, color='grey', linestyle='--', label='Persistence cutoff ratio.')\n",
    "plt.yscale('log')\n",
    "plt.title('Histogram count of all solvents ever found nearby the protein')\n",
    "plt.xlabel('Number of frames spent within %g Angs. of protein' % distCutoff); plt.ylabel('Count')\n",
    "plt.savefig(outputPrefix+'_histogram.pdf')"
   ]
  },
  {
   "cell_type": "code",
   "execution_count": null,
   "id": "4fb25dc5-6b44-46cd-9ed0-70bea439a5f7",
   "metadata": {},
   "outputs": [],
   "source": [
    "dictProteinsNearbyWater = obtain_protein_contacts_of_highest_counts(u, counterNearbyWaters, ratioCutoff, distCutoff)"
   ]
  },
  {
   "cell_type": "code",
   "execution_count": null,
   "id": "efa210bf-b22a-41c0-82c4-920ae7d8da40",
   "metadata": {},
   "outputs": [],
   "source": [
    "edgeListWater = convert_contacts_to_edgelist(u, dictProteinsNearbyWater, ratioCutoff)"
   ]
  },
  {
   "cell_type": "code",
   "execution_count": null,
   "id": "306a0a52-fff0-4d14-8f07-f8a572b30db2",
   "metadata": {},
   "outputs": [],
   "source": [
    "print_edgelist(outputPrefix+'.txt', edgeListWater)"
   ]
  },
  {
   "cell_type": "code",
   "execution_count": null,
   "id": "c7b28125-d0a2-4d91-bb87-5ab99a520bb6",
   "metadata": {},
   "outputs": [],
   "source": [
    "print_graph(outputPrefix+'_graph.pdf', edgeListWater)"
   ]
  },
  {
   "cell_type": "code",
   "execution_count": null,
   "id": "66b9594e-c597-4703-9851-e39a533e37df",
   "metadata": {},
   "outputs": [],
   "source": []
  },
  {
   "cell_type": "code",
   "execution_count": null,
   "id": "28ef9083-7fae-4820-87ee-0de0f14c8341",
   "metadata": {},
   "outputs": [],
   "source": []
  }
 ],
 "metadata": {
  "kernelspec": {
   "display_name": "Python 3",
   "language": "python",
   "name": "python3"
  },
  "language_info": {
   "codemirror_mode": {
    "name": "ipython",
    "version": 3
   },
   "file_extension": ".py",
   "mimetype": "text/x-python",
   "name": "python",
   "nbconvert_exporter": "python",
   "pygments_lexer": "ipython3",
   "version": "3.8.10"
  }
 },
 "nbformat": 4,
 "nbformat_minor": 5
}
